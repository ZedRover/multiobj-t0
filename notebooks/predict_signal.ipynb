{
 "cells": [
  {
   "cell_type": "code",
   "execution_count": 1,
   "metadata": {},
   "outputs": [
    {
     "name": "stderr",
     "output_type": "stream",
     "text": [
      "/home/ywang/miniconda3/lib/python3.12/site-packages/transformers/utils/generic.py:441: UserWarning: torch.utils._pytree._register_pytree_node is deprecated. Please use torch.utils._pytree.register_pytree_node instead.\n",
      "  _torch_pytree._register_pytree_node(\n"
     ]
    }
   ],
   "source": [
    "import nutils \n",
    "from models.mlp_cat_v3 import *\n",
    "import common as cm\n",
    "import torch as th\n",
    "import SharedArray as sa\n",
    "import numpy as np"
   ]
  },
  {
   "cell_type": "code",
   "execution_count": null,
   "metadata": {},
   "outputs": [],
   "source": [
    "path_dict = {\n",
    "    0: \"/home/ywang/workspace/multask_t0/src/checkpoints/2406120938/0/model_valid/ic_ret=0.274.ckpt\",\n",
    "    1: \"/home/ywang/workspace/multask_t0/src/checkpoints/2406120938/1/model_valid/ic_ret=0.248.ckpt\",\n",
    "    2: \"/home/ywang/workspace/multask_t0/src/checkpoints/2406120938/2/model_valid/ic_ret=0.246.ckpt\",\n",
    "    3: \"/home/ywang/workspace/multask_t0/src/checkpoints/2406111732/3/model_valid/ic_ret=0.230.ckpt\",\n",
    "    4: \"/home/ywang/workspace/multask_t0/src/checkpoints/2406111735/4/model_valid/ic_ret=0.226.ckpt\",\n",
    "    5: \"/home/ywang/workspace/multask_t0/src/checkpoints/2406111735/5/model_valid/ic_ret=0.223.ckpt\",\n",
    "}"
   ]
  },
  {
   "cell_type": "code",
   "execution_count": null,
   "metadata": {},
   "outputs": [],
   "source": [
    "label_names = [\"ret\", \"mean\", \"var\", \"vol\", \"min\", \"max\", \"gap\", \"nret\"]\n",
    "\n",
    "\n",
    "def get_label(code, cur=0, fut=60, label_idx=[]):\n",
    "\n",
    "    tag = f\"{cur}-{fut}\"\n",
    "    raw_ret = sa.attach(f\"label_{code}\")\n",
    "    n = len(raw_ret)\n",
    "\n",
    "    path = f\"/mnt/disk1/multiobj_dataset/{code}\"\n",
    "    selected_labels = [label_names[i] for i in label_idx]\n",
    "    labels = []\n",
    "    for label in selected_labels:\n",
    "        if \"ret\" not in label:\n",
    "            name = f\"{label}_{tag}.npy\"\n",
    "            labels.append(np.load(f\"{path}/{name}\").astype(np.float32)[:n])\n",
    "        elif \"nret\" in label:\n",
    "            name = f\"ret_{fut}.npy\"\n",
    "            labels.append(np.load(f\"{path}/{name}\").astype(np.float32)[:n])\n",
    "    res = np.concatenate([raw_ret] + labels, axis=1)\n",
    "    return res\n",
    "\n",
    "\n",
    "def get_data(code):\n",
    "    x = sa.attach(f\"factor_{code}\")\n",
    "    y = sa.attach(f\"label_{code}\")\n",
    "    z = sa.attach(f\"timestamp_{code}\")\n",
    "    return x, y, z"
   ]
  },
  {
   "cell_type": "code",
   "execution_count": null,
   "metadata": {},
   "outputs": [],
   "source": [
    "codes = cm.SELECTED_CODES\n",
    "train_end_dates = cm.dates\n",
    "x_codes, y_codes, ts_codes = [], [], []\n",
    "for code in codes:\n",
    "    x, _, ts = get_data(code)\n",
    "    label = get_label(code, cur=120, fut=180, label_idx=[0, 1, 3, 4, 5])\n",
    "    x_codes.append(x)\n",
    "    y_codes.append(label)\n",
    "    ts_codes.append(ts)"
   ]
  },
  {
   "cell_type": "code",
   "execution_count": null,
   "metadata": {},
   "outputs": [],
   "source": [
    "device = th.device(\"cuda:1\")\n",
    "pred_y = {i: [] for i in range(6)}\n",
    "\n",
    "for fold in range(6):\n",
    "    print(f\"processing fold {fold}\")\n",
    "    model = CatNet.load_from_checkpoint(path_dict[fold]).to(device)\n",
    "    for code in codes:\n",
    "        test_x = x_codes[codes.index(code)]\n",
    "        test_ts = ts_codes[codes.index(code)]\n",
    "        test_x = test_x[\n",
    "            (test_ts >= train_end_dates[fold]) & (test_ts < train_end_dates[fold + 1])\n",
    "        ]\n",
    "        test_x = th.from_numpy(test_x).to(device)\n",
    "        y_hat = model(test_x)[0].detach().cpu().numpy()\n",
    "        pred_y[fold].append(y_hat)\n",
    "        "
   ]
  },
  {
   "cell_type": "code",
   "execution_count": null,
   "metadata": {},
   "outputs": [],
   "source": [
    "pred_ys = []\n",
    "for i in range(100):\n",
    "    code = codes[i]\n",
    "    cur_y = []\n",
    "    for fold in range(6):\n",
    "        cur_y.append(pred_y[fold][i])\n",
    "    cur_y = np.concatenate(cur_y, axis=0)\n",
    "\n",
    "    ts = ts_codes[i]\n",
    "    padding_len = sum(ts < trai n_end_dates[0])\n",
    "    padding_y = np.zeros((padding_len, cur_y.shape[1]))\n",
    "    cur_y = np.concatenate([padding_y, cur_y], axis=0)\n",
    "    pred_ys.append(cur_y)\n",
    "    np.save(f\"/mnt/nas/data/WY/factor_0612/{code}.npy\", cur_y)"
   ]
  },
  {
   "cell_type": "code",
   "execution_count": null,
   "metadata": {},
   "outputs": [],
   "source": []
  }
 ],
 "metadata": {
  "kernelspec": {
   "display_name": "base",
   "language": "python",
   "name": "python3"
  },
  "language_info": {
   "codemirror_mode": {
    "name": "ipython",
    "version": 3
   },
   "file_extension": ".py",
   "mimetype": "text/x-python",
   "name": "python",
   "nbconvert_exporter": "python",
   "pygments_lexer": "ipython3",
   "version": "3.12.2"
  }
 },
 "nbformat": 4,
 "nbformat_minor": 2
}
