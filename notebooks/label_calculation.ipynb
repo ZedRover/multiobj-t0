{
 "cells": [
  {
   "cell_type": "code",
   "execution_count": 28,
   "metadata": {},
   "outputs": [
    {
     "name": "stdout",
     "output_type": "stream",
     "text": [
      "Means shape: (2000, 3, 3)\n",
      "Variances shape: (2000, 3, 3)\n",
      "RVs shape: (2000, 3, 3)\n"
     ]
    }
   ],
   "source": [
    "import numpy as np\n",
    "from numba import jit, prange\n",
    "\n",
    "\n",
    "@jit(nopython=True)\n",
    "def compute_returns(prices, horizon):\n",
    "    # Adjusted to compute future returns\n",
    "    num_points = len(prices) - horizon\n",
    "    returns = np.empty(num_points)\n",
    "    for i in range(num_points):\n",
    "        returns[i] = np.log(prices[i + horizon] / prices[i]) * 10000\n",
    "    # Extend the returns array with NaNs to match the original prices length\n",
    "    full_returns = np.full_like(prices, np.nan, dtype=np.float64)\n",
    "    full_returns[:num_points] = returns\n",
    "    return full_returns\n",
    "\n",
    "\n",
    "@jit(nopython=True)\n",
    "def compute_moments_and_volatility(returns, start, end):\n",
    "    # Compute moments and volatility for a given sub-range\n",
    "    if end <= len(returns) and not np.isnan(returns[start:end]).all():\n",
    "        ret_window = returns[start:end]\n",
    "        mean = np.mean(ret_window)\n",
    "        variance = np.var(ret_window)\n",
    "        rv = np.sqrt(np.sum(ret_window**2))\n",
    "        return mean, variance, rv\n",
    "    return None, None, None\n",
    "\n",
    "\n",
    "@jit(nopython=True, parallel=True)\n",
    "def analyze_prices(prices, horizons, feature_intervals):\n",
    "    # Initialize arrays to store the results\n",
    "    means = np.full((len(prices), len(horizons), len(feature_intervals)), np.nan)\n",
    "    variances = np.full((len(prices), len(horizons), len(feature_intervals)), np.nan)\n",
    "    rvs = np.full((len(prices), len(horizons), len(feature_intervals)), np.nan)\n",
    "\n",
    "    for idx, horizon in enumerate(horizons):\n",
    "        all_returns = compute_returns(prices, horizon)\n",
    "        for start in prange(len(prices) - horizon):\n",
    "            for f_idx, (start_interval, end_interval) in enumerate(feature_intervals):\n",
    "                adjusted_start = start + start_interval\n",
    "                adjusted_end = start + end_interval\n",
    "                if adjusted_end <= len(all_returns):\n",
    "                    mean, variance, rv = compute_moments_and_volatility(\n",
    "                        all_returns, adjusted_start, adjusted_end\n",
    "                    )\n",
    "                    if mean is not None:\n",
    "                        means[start, idx, f_idx] = mean\n",
    "                        variances[start, idx, f_idx] = variance\n",
    "                        rvs[start, idx, f_idx] = rv\n",
    "\n",
    "    return means, variances, rvs\n",
    "\n",
    "\n",
    "# Example usage:\n",
    "prices = np.random.normal(loc=100, scale=5, size=2000)  # Example prices with more data\n",
    "horizons = [20, 60, 120]  # Calculate future returns over 1 min, 3 min, 6 min\n",
    "feature_intervals = [(0, 60), (60, 120), (120, 180)]  # Different intervals\n",
    "means, variances, rvs = analyze_prices(prices, horizons, feature_intervals)\n",
    "print(\"Means shape:\", means.shape)\n",
    "print(\"Variances shape:\", variances.shape)\n",
    "print(\"RVs shape:\", rvs.shape)"
   ]
  },
  {
   "cell_type": "code",
   "execution_count": 29,
   "metadata": {},
   "outputs": [],
   "source": [
    "import nutils\n",
    "import common as cm\n",
    "import pandas as pd"
   ]
  },
  {
   "cell_type": "code",
   "execution_count": 50,
   "metadata": {},
   "outputs": [
    {
     "name": "stdout",
     "output_type": "stream",
     "text": [
      "000537\n",
      "000627\n",
      "000925\n",
      "000950\n",
      "002058\n",
      "002166\n",
      "002308\n",
      "002399\n",
      "002498\n",
      "002557\n",
      "002577\n",
      "002594\n",
      "002901\n",
      "002941\n",
      "002946\n",
      "300053\n",
      "300137\n",
      "300141\n",
      "300215\n",
      "300225\n",
      "300241\n",
      "300252\n",
      "300366\n",
      "300498\n",
      "300564\n",
      "300605\n",
      "300640\n",
      "300688\n",
      "300713\n",
      "300867\n",
      "300870\n",
      "300908\n",
      "300913\n",
      "600006\n",
      "600012\n",
      "600107\n",
      "600123\n",
      "600127\n",
      "600163\n",
      "600176\n",
      "600218\n",
      "600232\n",
      "600267\n",
      "600302\n",
      "600395\n",
      "600426\n",
      "600428\n",
      "600493\n",
      "600557\n",
      "600578\n",
      "600644\n",
      "600647\n",
      "600665\n",
      "600704\n",
      "600740\n",
      "600797\n",
      "600817\n",
      "600834\n",
      "600859\n",
      "600862\n",
      "600893\n",
      "600984\n",
      "601019\n",
      "601330\n",
      "601881\n",
      "603006\n",
      "603017\n",
      "603018\n",
      "603037\n",
      "603192\n",
      "603212\n",
      "603269\n",
      "603357\n",
      "603368\n",
      "603388\n",
      "603390\n",
      "603559\n",
      "603595\n",
      "603693\n",
      "603712\n",
      "603777\n",
      "603818\n",
      "603856\n",
      "603878\n",
      "603939\n",
      "603990\n",
      "605128\n",
      "605166\n",
      "688057\n",
      "688165\n",
      "688215\n",
      "688286\n",
      "688309\n",
      "688313\n",
      "688366\n",
      "688386\n",
      "688668\n",
      "688678\n",
      "688777\n",
      "689009\n"
     ]
    }
   ],
   "source": [
    "for code in cm.SELECTED_CODES:\n",
    "    print(code)\n",
    "    datas = cm.get_snapshot(code)\n",
    "    df = datas['tickData']\n",
    "    df = pd.DataFrame(df,columns=cm.COLS_SNAPSHOTS)\n",
    "    mid_price = (df.AskPrice1 + df.AskPrice2)/2\n",
    "    mid_price = mid_price.values\n",
    "    horizons = [10, 30, 60]  # Calculate future returns over 1 min, 3 min, 6 min\n",
    "    feature_intervals = [(0, 60), (60, 120), (60, 180)]  # Different intervals\n",
    "    means, variances, rvs = analyze_prices(mid_price, horizons, feature_intervals)\n",
    "    # fp_mean = np.memmap(f\"/mnt/disk1/snapshot_dataset/labels/mean_{code}\",dtype=np.float32,mode=\"w+\",shape=means.shape)\n",
    "    # fp_mean[:] = means[:]\n",
    "    # fp_mean.flush()\n",
    "    # fp_mean.flags['WRITEABLE'] = False\n",
    "    \n",
    "    # fp_rv = np.memmap(f\"/mnt/disk1/snapshot_dataset/labels/rv_{code}\",dtype=np.float32,mode=\"w+\",shape=rvs.shape)\n",
    "    # fp_rv[:] = rvs[:]\n",
    "    # fp_rv.flush()\n",
    "    # fp_rv.flags['WRITEABLE'] = False\n",
    "    \n",
    "    # fp_var = np.memmap(f\"/mnt/disk1/snapshot_dataset/labels/var_{code}\",dtype=np.float32,mode=\"w+\",shape=variances.shape)\n",
    "    # fp_var[:] = variances[:]\n",
    "    # fp_var.flush()\n",
    "    # fp_var.flags['WRITEABLE'] = False"
   ]
  },
  {
   "cell_type": "code",
   "execution_count": 42,
   "metadata": {},
   "outputs": [],
   "source": [
    "mid_price = mid_price.values"
   ]
  },
  {
   "cell_type": "code",
   "execution_count": null,
   "metadata": {},
   "outputs": [],
   "source": [
    "mid_price.sahpe"
   ]
  },
  {
   "cell_type": "code",
   "execution_count": 44,
   "metadata": {},
   "outputs": [
    {
     "name": "stdout",
     "output_type": "stream",
     "text": [
      "Means shape: (1828412, 3, 3)\n",
      "Variances shape: (1828412, 3, 3)\n",
      "RVs shape: (1828412, 3, 3)\n"
     ]
    }
   ],
   "source": []
  },
  {
   "cell_type": "code",
   "execution_count": null,
   "metadata": {},
   "outputs": [],
   "source": []
  },
  {
   "cell_type": "code",
   "execution_count": 45,
   "metadata": {},
   "outputs": [],
   "source": [
    "ret = np.memmap('A:/data/factors/label_000537.npy',dtype=np.float32,mode='r')"
   ]
  },
  {
   "cell_type": "code",
   "execution_count": 48,
   "metadata": {},
   "outputs": [
    {
     "name": "stdout",
     "output_type": "stream",
     "text": [
      "0 0\n",
      "PearsonRResult(statistic=0.056276941578786085, pvalue=0.0)\n",
      "PearsonRResult(statistic=0.7000510958987833, pvalue=0.0)\n",
      "PearsonRResult(statistic=0.963906367999515, pvalue=0.0)\n",
      "0 1\n",
      "PearsonRResult(statistic=0.06835711380887606, pvalue=0.0)\n",
      "PearsonRResult(statistic=0.7000521941136941, pvalue=0.0)\n",
      "PearsonRResult(statistic=0.9639065435792427, pvalue=0.0)\n",
      "0 2\n",
      "PearsonRResult(statistic=0.04878679705530662, pvalue=0.0)\n",
      "PearsonRResult(statistic=0.700052456790514, pvalue=0.0)\n",
      "PearsonRResult(statistic=0.9639064305841797, pvalue=0.0)\n",
      "1 0\n",
      "PearsonRResult(statistic=0.05831562861633175, pvalue=0.0)\n",
      "PearsonRResult(statistic=0.6354073332908983, pvalue=0.0)\n",
      "PearsonRResult(statistic=0.923722365622294, pvalue=0.0)\n",
      "1 1\n",
      "PearsonRResult(statistic=0.0642842576214014, pvalue=0.0)\n",
      "PearsonRResult(statistic=0.6354093798375037, pvalue=0.0)\n",
      "PearsonRResult(statistic=0.9237224630752968, pvalue=0.0)\n",
      "1 2\n",
      "PearsonRResult(statistic=0.04923948471443939, pvalue=0.0)\n",
      "PearsonRResult(statistic=0.6354094185126427, pvalue=0.0)\n",
      "PearsonRResult(statistic=0.9237222840628776, pvalue=0.0)\n",
      "2 0\n",
      "PearsonRResult(statistic=0.050500296286310184, pvalue=0.0)\n",
      "PearsonRResult(statistic=0.6613675853034523, pvalue=0.0)\n",
      "PearsonRResult(statistic=0.8660114748359657, pvalue=0.0)\n",
      "2 1\n",
      "PearsonRResult(statistic=0.06400500954986768, pvalue=0.0)\n",
      "PearsonRResult(statistic=0.661368036720864, pvalue=0.0)\n",
      "PearsonRResult(statistic=0.866011258005717, pvalue=0.0)\n",
      "2 2\n",
      "PearsonRResult(statistic=0.048846418853789125, pvalue=0.0)\n",
      "PearsonRResult(statistic=0.6613679900422015, pvalue=0.0)\n",
      "PearsonRResult(statistic=0.8660110200512026, pvalue=0.0)\n"
     ]
    }
   ],
   "source": [
    "from scipy.stats import pearsonr\n",
    "for i in range(3):\n",
    "    for j in range(3):\n",
    "        print(i,j)\n",
    "        rvs_ij = rvs[:,i,j]\n",
    "        mean_ij = means[:,i,j]\n",
    "        var_ij = variances[:,i,j]\n",
    "        print(pearsonr(np.nan_to_num(rvs_ij), np.nan_to_num(ret)))\n",
    "        print(pearsonr(np.nan_to_num(rvs_ij), np.nan_to_num(mean_ij)))\n",
    "        print(pearsonr(np.nan_to_num(rvs_ij), np.nan_to_num(var_ij)))"
   ]
  },
  {
   "cell_type": "code",
   "execution_count": null,
   "metadata": {},
   "outputs": [],
   "source": []
  },
  {
   "cell_type": "code",
   "execution_count": null,
   "metadata": {},
   "outputs": [],
   "source": []
  },
  {
   "cell_type": "code",
   "execution_count": null,
   "metadata": {},
   "outputs": [],
   "source": []
  },
  {
   "cell_type": "code",
   "execution_count": null,
   "metadata": {},
   "outputs": [],
   "source": []
  },
  {
   "cell_type": "code",
   "execution_count": null,
   "metadata": {},
   "outputs": [],
   "source": []
  },
  {
   "cell_type": "code",
   "execution_count": null,
   "metadata": {},
   "outputs": [],
   "source": []
  },
  {
   "cell_type": "code",
   "execution_count": null,
   "metadata": {},
   "outputs": [],
   "source": []
  },
  {
   "cell_type": "code",
   "execution_count": null,
   "metadata": {},
   "outputs": [],
   "source": []
  }
 ],
 "metadata": {
  "kernelspec": {
   "display_name": "base",
   "language": "python",
   "name": "python3"
  },
  "language_info": {
   "codemirror_mode": {
    "name": "ipython",
    "version": 3
   },
   "file_extension": ".py",
   "mimetype": "text/x-python",
   "name": "python",
   "nbconvert_exporter": "python",
   "pygments_lexer": "ipython3",
   "version": "3.11.7"
  }
 },
 "nbformat": 4,
 "nbformat_minor": 2
}
