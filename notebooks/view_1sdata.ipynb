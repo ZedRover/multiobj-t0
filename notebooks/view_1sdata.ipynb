{
 "cells": [
  {
   "cell_type": "code",
   "execution_count": 1,
   "metadata": {},
   "outputs": [],
   "source": [
    "import tables\n",
    "import numpy as np\n",
    "import pandas as pd"
   ]
  },
  {
   "cell_type": "code",
   "execution_count": 2,
   "metadata": {},
   "outputs": [],
   "source": [
    "file = tables.open_file(\"/mnt/nas/data/1s数据/stk_strN_0_endN_999.h5\",mode=\"r\")"
   ]
  },
  {
   "cell_type": "code",
   "execution_count": 3,
   "metadata": {},
   "outputs": [
    {
     "name": "stdout",
     "output_type": "stream",
     "text": [
      "/mnt/nas/data/1s数据/stk_strN_0_endN_999.h5 (File) ''\n",
      "Last modif.: '2024-05-23T21:45:45+00:00'\n",
      "Object Tree: \n",
      "/ (RootGroup) ''\n",
      "/datatime (EArray(10337940, 2)zlib(4)) ''\n",
      "/mid (EArray(10337940, 1000)zlib(4)) ''\n",
      "/stock_list (EArray(1000, 1)zlib(4)) ''\n",
      "/volume (EArray(10337940, 1000)zlib(4)) ''\n",
      "\n"
     ]
    }
   ],
   "source": [
    "print(file)"
   ]
  },
  {
   "cell_type": "code",
   "execution_count": 4,
   "metadata": {},
   "outputs": [],
   "source": [
    "datetime = file.root.datatime[:]"
   ]
  },
  {
   "cell_type": "code",
   "execution_count": 5,
   "metadata": {},
   "outputs": [],
   "source": [
    "mid_price = file.root.mid[:]"
   ]
  },
  {
   "cell_type": "code",
   "execution_count": 6,
   "metadata": {},
   "outputs": [],
   "source": [
    "codes = file.root.stock_list[:]"
   ]
  },
  {
   "cell_type": "code",
   "execution_count": 7,
   "metadata": {},
   "outputs": [
    {
     "data": {
      "text/plain": [
       "(10337940, 1000)"
      ]
     },
     "execution_count": 7,
     "metadata": {},
     "output_type": "execute_result"
    }
   ],
   "source": [
    "mid_price.shape"
   ]
  },
  {
   "cell_type": "code",
   "execution_count": 8,
   "metadata": {},
   "outputs": [
    {
     "data": {
      "text/plain": [
       "array([[20210104,    93000],\n",
       "       [20210104,    93001],\n",
       "       [20210104,    93002],\n",
       "       ...,\n",
       "       [20231229,   145657],\n",
       "       [20231229,   145658],\n",
       "       [20231229,   145659]], dtype=int32)"
      ]
     },
     "execution_count": 8,
     "metadata": {},
     "output_type": "execute_result"
    }
   ],
   "source": [
    "datetime"
   ]
  },
  {
   "cell_type": "code",
   "execution_count": 9,
   "metadata": {},
   "outputs": [],
   "source": [
    "import nutils\n",
    "import common as cm \n",
    "code_100 = cm.SELECTED_CODES"
   ]
  },
  {
   "cell_type": "code",
   "execution_count": 10,
   "metadata": {},
   "outputs": [],
   "source": [
    "code_str = [str(code[0]).zfill(6) for code in codes]\n",
    "\n",
    "col_100 = [True if code in code_100 else False for code in code_str]\n",
    "col_100 = [code_str.index(code) for code in code_100]"
   ]
  },
  {
   "cell_type": "code",
   "execution_count": 11,
   "metadata": {},
   "outputs": [],
   "source": [
    "mp_100 = mid_price[:,col_100]"
   ]
  },
  {
   "cell_type": "code",
   "execution_count": 12,
   "metadata": {},
   "outputs": [],
   "source": [
    "import numpy as np\n",
    "import numba as nb\n",
    "\n",
    "@nb.jit(nopython=True, parallel=True)\n",
    "def calculate_log_returns(weighted_prices, index_1s):\n",
    "    n_timestamps = weighted_prices.shape[0]\n",
    "    log_returns = np.zeros(n_timestamps)\n",
    "    raw_returns = np.zeros(n_timestamps)\n",
    "    \n",
    "    for i in nb.prange(n_timestamps):\n",
    "        current_price = weighted_prices[i]\n",
    "        future_prices = []\n",
    "        for k in range(1, 181):\n",
    "            future_index = i + k\n",
    "            if future_index < n_timestamps and index_1s[future_index, 0] == index_1s[i, 0]:\n",
    "                future_prices.append(weighted_prices[future_index])\n",
    "            else:\n",
    "                future_prices.append(current_price)\n",
    "        future_prices = np.array(future_prices)\n",
    "        raw_returns[i] = future_prices[-1] / current_price - 1\n",
    "        log_returns[i] = np.log(future_prices[-1] / current_price)*1e4\n",
    "    \n",
    "    return raw_returns,log_returns"
   ]
  },
  {
   "cell_type": "code",
   "execution_count": 13,
   "metadata": {},
   "outputs": [],
   "source": [
    "mp_100 = pd.DataFrame(mp_100).ffill(axis=0).values\n",
    "w_mp_100 = mp_100.astype(np.float64).mean(1)\n",
    "rawret,logret = calculate_log_returns(w_mp_100,datetime)"
   ]
  },
  {
   "cell_type": "code",
   "execution_count": 14,
   "metadata": {},
   "outputs": [],
   "source": [
    "from numba import prange\n",
    "nb.jit(nopython=True, parallel=True)\n",
    "def calculate_excess_returns(\n",
    "    stock_log_returns, stock_index, index_log_returns, index_index\n",
    "):\n",
    "    n_stock_timestamps = stock_log_returns.shape[0]\n",
    "    n_index_timestamps = index_log_returns.shape[0]\n",
    "\n",
    "    # Create arrays to store results\n",
    "    excess_returns = np.full(n_stock_timestamps, np.nan)\n",
    "\n",
    "    # Initialize pointers\n",
    "    index_pointer = 0\n",
    "\n",
    "    # Iterate through stock timestamps\n",
    "    for i in prange(n_stock_timestamps):\n",
    "        stock_date, stock_time = stock_index[i]\n",
    "\n",
    "        # Move index pointer to the latest log return before or at the stock time\n",
    "        while index_pointer < n_index_timestamps and (\n",
    "            index_index[index_pointer, 0] < stock_date\n",
    "            or (\n",
    "                index_index[index_pointer, 0] == stock_date\n",
    "                and index_index[index_pointer, 1] <= stock_time\n",
    "            )\n",
    "        ):\n",
    "            index_pointer += 1\n",
    "\n",
    "        # Ensure we have a valid pointer to use\n",
    "        if index_pointer > 0:\n",
    "            beta = index_log_returns[index_pointer - 1]\n",
    "            # excess_returns[i] = stock_log_returns[i] - beta\n",
    "            excess_returns[i] = (\n",
    "                np.log(np.exp(stock_log_returns[i] / 1e4) - np.exp(beta / 1e4) + 1)\n",
    "            ) * 1e4\n",
    "\n",
    "    return excess_returns"
   ]
  },
  {
   "cell_type": "code",
   "execution_count": 15,
   "metadata": {},
   "outputs": [
    {
     "name": "stderr",
     "output_type": "stream",
     "text": [
      "  0%|          | 0/100 [00:00<?, ?it/s]/tmp/ipykernel_1064217/693082876.py:33: DeprecationWarning: Conversion of an array with ndim > 0 to a scalar is deprecated, and will error in future. Ensure you extract a single element from your array before performing this operation. (Deprecated NumPy 1.25.)\n",
      "  excess_returns[i] = (\n",
      "100%|██████████| 100/100 [59:41<00:00, 35.81s/it] \n"
     ]
    }
   ],
   "source": [
    "import SharedArray as sa \n",
    "from h5py import File \n",
    "from tqdm import tqdm \n",
    "\n",
    "for cur_code in tqdm(cm.SELECTED_CODES):\n",
    "    raw_label = sa.attach(f\"label_{cur_code}\")\n",
    "    # raw_timestamp = sa.attach(f\"timestamp_{cur_code}\")\n",
    "    with File(f\"/mnt/nas/data/股票数据hdf5/stkCode_{cur_code}.h5\",\"r\") as f:\n",
    "        raw_timestamp = f[\"timestamp\"][:]\n",
    "    ret = calculate_excess_returns(raw_label,raw_timestamp,logret,datetime)\n",
    "    np.save(f\"/mnt/disk2/excess_return/{cur_code}.npy\",ret.astype(np.float32),)"
   ]
  },
  {
   "cell_type": "code",
   "execution_count": 16,
   "metadata": {},
   "outputs": [
    {
     "data": {
      "text/plain": [
       "array([20210104,    93008])"
      ]
     },
     "execution_count": 16,
     "metadata": {},
     "output_type": "execute_result"
    }
   ],
   "source": [
    "raw_timestamp[3]"
   ]
  },
  {
   "cell_type": "code",
   "execution_count": 17,
   "metadata": {},
   "outputs": [
    {
     "data": {
      "text/plain": [
       "(10337940,)"
      ]
     },
     "execution_count": 17,
     "metadata": {},
     "output_type": "execute_result"
    }
   ],
   "source": [
    "logret.shape"
   ]
  },
  {
   "cell_type": "code",
   "execution_count": 18,
   "metadata": {},
   "outputs": [],
   "source": [
    "code = \"000537\"\n",
    "raw_label = sa.attach(f\"label_{code}\")\n",
    "\n",
    "new_label = np.load(f\"/mnt/disk2/excess_return/{code}.npy\")"
   ]
  },
  {
   "cell_type": "code",
   "execution_count": 19,
   "metadata": {},
   "outputs": [],
   "source": [
    "import seaborn as sns\n",
    "import matplotlib.pyplot as plt"
   ]
  },
  {
   "cell_type": "code",
   "execution_count": 20,
   "metadata": {},
   "outputs": [
    {
     "data": {
      "text/plain": [
       "<Axes: ylabel='Density'>"
      ]
     },
     "execution_count": 20,
     "metadata": {},
     "output_type": "execute_result"
    },
    {
     "data": {
      "image/png": "[encoded data removed]",
      "text/plain": [
       "<Figure size 640x480 with 1 Axes>"
      ]
     },
     "metadata": {},
     "output_type": "display_data"
    }
   ],
   "source": [
    "sns.histplot(raw_label,bins=100,stat=\"density\",color=\"blue\",alpha=0.2)\n",
    "sns.histplot(new_label,bins=100,stat=\"density\",color=\"red\",alpha=0.2)"
   ]
  },
  {
   "cell_type": "code",
   "execution_count": 21,
   "metadata": {},
   "outputs": [],
   "source": [
    "\n",
    "df_label = pd.DataFrame({\"raw\":raw_label.flatten(),\"new\":new_label.flatten()})"
   ]
  },
  {
   "cell_type": "code",
   "execution_count": 22,
   "metadata": {},
   "outputs": [
    {
     "data": {
      "text/html": [
       "<div>\n",
       "<style scoped>\n",
       "    .dataframe tbody tr th:only-of-type {\n",
       "        vertical-align: middle;\n",
       "    }\n",
       "\n",
       "    .dataframe tbody tr th {\n",
       "        vertical-align: top;\n",
       "    }\n",
       "\n",
       "    .dataframe thead th {\n",
       "        text-align: right;\n",
       "    }\n",
       "</style>\n",
       "<table border=\"1\" class=\"dataframe\">\n",
       "  <thead>\n",
       "    <tr style=\"text-align: right;\">\n",
       "      <th></th>\n",
       "      <th>raw</th>\n",
       "      <th>new</th>\n",
       "    </tr>\n",
       "  </thead>\n",
       "  <tbody>\n",
       "    <tr>\n",
       "      <th>count</th>\n",
       "      <td>1.828412e+06</td>\n",
       "      <td>1.828412e+06</td>\n",
       "    </tr>\n",
       "    <tr>\n",
       "      <th>mean</th>\n",
       "      <td>3.012418e-01</td>\n",
       "      <td>2.226960e-01</td>\n",
       "    </tr>\n",
       "    <tr>\n",
       "      <th>std</th>\n",
       "      <td>4.207903e+01</td>\n",
       "      <td>4.047092e+01</td>\n",
       "    </tr>\n",
       "    <tr>\n",
       "      <th>min</th>\n",
       "      <td>-9.200058e+02</td>\n",
       "      <td>-8.638025e+02</td>\n",
       "    </tr>\n",
       "    <tr>\n",
       "      <th>25%</th>\n",
       "      <td>-1.848112e+01</td>\n",
       "      <td>-1.780306e+01</td>\n",
       "    </tr>\n",
       "    <tr>\n",
       "      <th>50%</th>\n",
       "      <td>0.000000e+00</td>\n",
       "      <td>-1.158781e+00</td>\n",
       "    </tr>\n",
       "    <tr>\n",
       "      <th>75%</th>\n",
       "      <td>1.733103e+01</td>\n",
       "      <td>1.573278e+01</td>\n",
       "    </tr>\n",
       "    <tr>\n",
       "      <th>max</th>\n",
       "      <td>7.514942e+02</td>\n",
       "      <td>7.401238e+02</td>\n",
       "    </tr>\n",
       "  </tbody>\n",
       "</table>\n",
       "</div>"
      ],
      "text/plain": [
       "                raw           new\n",
       "count  1.828412e+06  1.828412e+06\n",
       "mean   3.012418e-01  2.226960e-01\n",
       "std    4.207903e+01  4.047092e+01\n",
       "min   -9.200058e+02 -8.638025e+02\n",
       "25%   -1.848112e+01 -1.780306e+01\n",
       "50%    0.000000e+00 -1.158781e+00\n",
       "75%    1.733103e+01  1.573278e+01\n",
       "max    7.514942e+02  7.401238e+02"
      ]
     },
     "execution_count": 22,
     "metadata": {},
     "output_type": "execute_result"
    }
   ],
   "source": [
    "df_label.describe()"
   ]
  },
  {
   "cell_type": "code",
   "execution_count": 23,
   "metadata": {},
   "outputs": [
    {
     "data": {
      "text/html": [
       "<div>\n",
       "<style scoped>\n",
       "    .dataframe tbody tr th:only-of-type {\n",
       "        vertical-align: middle;\n",
       "    }\n",
       "\n",
       "    .dataframe tbody tr th {\n",
       "        vertical-align: top;\n",
       "    }\n",
       "\n",
       "    .dataframe thead th {\n",
       "        text-align: right;\n",
       "    }\n",
       "</style>\n",
       "<table border=\"1\" class=\"dataframe\">\n",
       "  <thead>\n",
       "    <tr style=\"text-align: right;\">\n",
       "      <th></th>\n",
       "      <th>raw</th>\n",
       "      <th>new</th>\n",
       "    </tr>\n",
       "  </thead>\n",
       "  <tbody>\n",
       "    <tr>\n",
       "      <th>raw</th>\n",
       "      <td>1.00000</td>\n",
       "      <td>0.95592</td>\n",
       "    </tr>\n",
       "    <tr>\n",
       "      <th>new</th>\n",
       "      <td>0.95592</td>\n",
       "      <td>1.00000</td>\n",
       "    </tr>\n",
       "  </tbody>\n",
       "</table>\n",
       "</div>"
      ],
      "text/plain": [
       "         raw      new\n",
       "raw  1.00000  0.95592\n",
       "new  0.95592  1.00000"
      ]
     },
     "execution_count": 23,
     "metadata": {},
     "output_type": "execute_result"
    }
   ],
   "source": [
    "df_label.corr()"
   ]
  },
  {
   "cell_type": "code",
   "execution_count": null,
   "metadata": {},
   "outputs": [],
   "source": []
  }
 ],
 "metadata": {
  "kernelspec": {
   "display_name": "base",
   "language": "python",
   "name": "python3"
  },
  "language_info": {
   "codemirror_mode": {
    "name": "ipython",
    "version": 3
   },
   "file_extension": ".py",
   "mimetype": "text/x-python",
   "name": "python",
   "nbconvert_exporter": "python",
   "pygments_lexer": "ipython3",
   "version": "3.1.undefined"
  }
 },
 "nbformat": 4,
 "nbformat_minor": 2
}
