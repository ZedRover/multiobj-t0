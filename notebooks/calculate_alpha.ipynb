{
 "cells": [
  {
   "cell_type": "code",
   "execution_count": 7,
   "metadata": {},
   "outputs": [],
   "source": [
    "from h5py import File\n",
    "import numpy as np\n",
    "from tqdm import tqdm\n",
    "import SharedArray as sa\n",
    "import numba as nb\n",
    "import nutils\n",
    "import common as cm\n",
    "import pandas as pd"
   ]
  },
  {
   "cell_type": "code",
   "execution_count": 36,
   "metadata": {},
   "outputs": [
    {
     "name": "stdout",
     "output_type": "stream",
     "text": [
      "<KeysViewHDF5 ['datatime', 'mid', 'stock_list', 'volume']>\n"
     ]
    }
   ],
   "source": [
    "with File(\"/mnt/nas/data/1s数据/stk_strN_0_endN_999.h5\", \"r\") as f:\n",
    "    print(f.keys())\n",
    "    timestamp = f[\"datatime\"][:]\n",
    "    mid_price = f[\"mid\"][:]\n",
    "    codes = f[\"stock_list\"][:]"
   ]
  },
  {
   "cell_type": "code",
   "execution_count": 8,
   "metadata": {},
   "outputs": [],
   "source": [
    "code_100 = cm.SELECTED_CODES\n",
    "code_str = [str(code[0]).zfill(6) for code in codes]\n",
    "col_100 = [True if code in code_100 else False for code in code_str]\n",
    "col_100 = [code_str.index(code) for code in code_100]\n",
    "mp_100 = mid_price[:, col_100]"
   ]
  },
  {
   "cell_type": "code",
   "execution_count": 9,
   "metadata": {},
   "outputs": [],
   "source": [
    "@nb.jit(nopython=True, parallel=True)\n",
    "def calculate_log_returns(weighted_prices, index_1s):\n",
    "    n_timestamps = weighted_prices.shape[0]\n",
    "    log_returns = np.zeros(n_timestamps)\n",
    "    raw_returns = np.zeros(n_timestamps)\n",
    "\n",
    "    for i in nb.prange(n_timestamps):\n",
    "        current_price = weighted_prices[i]\n",
    "        future_prices = []\n",
    "        for k in range(1, 181):\n",
    "            future_index = i + k\n",
    "            if (\n",
    "                future_index < n_timestamps\n",
    "                and index_1s[future_index, 0] == index_1s[i, 0]\n",
    "            ):\n",
    "                future_prices.append(weighted_prices[future_index])\n",
    "            else:\n",
    "                future_prices.append(current_price)\n",
    "        future_prices = np.array(future_prices)\n",
    "        raw_returns[i] = future_prices[-1] / current_price - 1\n",
    "        log_returns[i] = np.log(future_prices[-1] / current_price) * 1e4\n",
    "\n",
    "    return raw_returns, log_returns"
   ]
  },
  {
   "cell_type": "code",
   "execution_count": 10,
   "metadata": {},
   "outputs": [],
   "source": [
    "mp_100 = pd.DataFrame(mp_100).ffill(axis=0).values\n",
    "w_mp_100 = mp_100.astype(np.float64).mean(1)\n",
    "rawret, logret = calculate_log_returns(w_mp_100, datetime)"
   ]
  },
  {
   "cell_type": "code",
   "execution_count": 11,
   "metadata": {},
   "outputs": [],
   "source": [
    "def calculate_regression_alpha(\n",
    "    stock_log_returns,\n",
    "    stock_index,\n",
    "    market_log_returns,\n",
    "    market_index,\n",
    "    start_date,\n",
    "    end_date,\n",
    "):\n",
    "    from datetime import datetime as dt\n",
    "    import statsmodels.api as sm\n",
    "\n",
    "    # Convert string dates to datetime objects\n",
    "    start_date = dt.strptime(start_date, \"%Y%m%d\")\n",
    "    end_date = dt.strptime(end_date, \"%Y%m%d\")\n",
    "\n",
    "    # Filter the data within the sample period\n",
    "    sample_mask = (stock_index[:, 0] >= start_date) & (stock_index[:, 0] <= end_date)\n",
    "    sample_stock_log_returns = stock_log_returns[sample_mask]\n",
    "    sample_market_log_returns = market_log_returns[sample_mask]\n",
    "\n",
    "    # Calculate alpha and beta using the sample data\n",
    "    X = sm.add_constant(sample_market_log_returns)\n",
    "    model = sm.OLS(sample_stock_log_returns, X).fit()\n",
    "    alpha = model.params[0]\n",
    "    beta = model.params[1]\n",
    "\n",
    "    # Calculate excess returns using the estimated alpha and beta\n",
    "    excess_returns = stock_log_returns - beta * market_log_returns\n",
    "\n",
    "    return excess_returns, alpha, beta"
   ]
  },
  {
   "cell_type": "code",
   "execution_count": 26,
   "metadata": {},
   "outputs": [
    {
     "ename": "NameError",
     "evalue": "name 'njit' is not defined",
     "output_type": "error",
     "traceback": [
      "\u001b[0;31m---------------------------------------------------------------------------\u001b[0m",
      "\u001b[0;31mNameError\u001b[0m                                 Traceback (most recent call last)",
      "Cell \u001b[0;32mIn[26], line 91\u001b[0m\n\u001b[1;32m     87\u001b[0m     beta \u001b[38;5;241m=\u001b[39m model\u001b[38;5;241m.\u001b[39mparams[\u001b[38;5;241m1\u001b[39m]\n\u001b[1;32m     89\u001b[0m     \u001b[38;5;28;01mreturn\u001b[39;00m alpha, beta\n\u001b[0;32m---> 91\u001b[0m \u001b[38;5;129m@njit\u001b[39m(parallel\u001b[38;5;241m=\u001b[39m\u001b[38;5;28;01mTrue\u001b[39;00m)\n\u001b[1;32m     92\u001b[0m \u001b[38;5;28;01mdef\u001b[39;00m \u001b[38;5;21mcalculate_excess_returns\u001b[39m(stock_log_returns, stock_index, index_log_returns, index_index, alpha, beta):\n\u001b[1;32m     93\u001b[0m     n_stock_timestamps \u001b[38;5;241m=\u001b[39m stock_log_returns\u001b[38;5;241m.\u001b[39mshape[\u001b[38;5;241m0\u001b[39m]\n\u001b[1;32m     94\u001b[0m     n_index_timestamps \u001b[38;5;241m=\u001b[39m index_log_returns\u001b[38;5;241m.\u001b[39mshape[\u001b[38;5;241m0\u001b[39m]\n",
      "\u001b[0;31mNameError\u001b[0m: name 'njit' is not defined"
     ]
    }
   ],
   "source": [
    "import statsmodels.api as sm\n",
    "from datetime import datetime\n",
    "\n",
    "\n",
    "@nb.jit(nopython=True, parallel=True)\n",
    "def calculate_log_returns(weighted_prices, index_1s):\n",
    "    n_timestamps = weighted_prices.shape[0]\n",
    "    log_returns = np.zeros(n_timestamps)\n",
    "    raw_returns = np.zeros(n_timestamps)\n",
    "\n",
    "    for i in nb.prange(n_timestamps):\n",
    "        current_price = weighted_prices[i]\n",
    "        future_prices = []\n",
    "        for k in range(1, 181):\n",
    "            future_index = i + k\n",
    "            if (\n",
    "                future_index < n_timestamps\n",
    "                and index_1s[future_index, 0] == index_1s[i, 0]\n",
    "            ):\n",
    "                future_prices.append(weighted_prices[future_index])\n",
    "            else:\n",
    "                future_prices.append(current_price)\n",
    "        future_prices = np.array(future_prices)\n",
    "        raw_returns[i] = future_prices[-1] / current_price - 1\n",
    "        log_returns[i] = np.log(future_prices[-1] / current_price) * 1e4\n",
    "\n",
    "    return raw_returns, log_returns\n",
    "\n",
    "\n",
    "@nb.jit(nopython=True, parallel=True)\n",
    "def calculate_excess_returns(\n",
    "    stock_log_returns, stock_index, index_log_returns, index_index\n",
    "):\n",
    "    n_stock_timestamps = stock_log_returns.shape[0]\n",
    "    n_index_timestamps = index_log_returns.shape[0]\n",
    "\n",
    "    # Create arrays to store results\n",
    "    excess_returns = np.full(n_stock_timestamps, np.nan)\n",
    "\n",
    "    # Initialize pointers\n",
    "    index_pointer = 0\n",
    "\n",
    "    # Iterate through stock timestamps\n",
    "    for i in nb.prange(n_stock_timestamps):\n",
    "        stock_date, stock_time = stock_index[i]\n",
    "\n",
    "        # Move index pointer to the latest log return before or at the stock time\n",
    "        while index_pointer < n_index_timestamps and (\n",
    "            index_index[index_pointer, 0] < stock_date\n",
    "            or (\n",
    "                index_index[index_pointer, 0] == stock_date\n",
    "                and index_index[index_pointer, 1] <= stock_time\n",
    "            )\n",
    "        ):\n",
    "            index_pointer += 1\n",
    "\n",
    "        # Ensure we have a valid pointer to use\n",
    "        if index_pointer > 0:\n",
    "            beta = index_log_returns[index_pointer - 1]\n",
    "            excess_returns[i] = (\n",
    "                np.log(np.exp(stock_log_returns[i] / 1e4) - np.exp(beta / 1e4) + 1)\n",
    "            ) * 1e4\n",
    "\n",
    "    return excess_returns\n",
    "\n",
    "\n",
    "def find_closest_index(stock_timestamp, market_timestamps):\n",
    "    # 找到市场数据中与股票数据时间戳最接近的时间戳索引\n",
    "    closest_indices = np.searchsorted(market_timestamps, stock_timestamp) - 1\n",
    "    closest_indices = np.clip(closest_indices, 0, len(market_timestamps) - 1)\n",
    "    return closest_indices\n",
    "\n",
    "def calculate_regression_params(stock_log_returns, stock_index, market_log_returns, market_index, start_date, end_date):\n",
    "    # Filter the data within the sample period\n",
    "    sample_mask = (stock_index >= start_date) & (stock_index <= end_date)\n",
    "    sample_stock_log_returns = stock_log_returns[sample_mask]\n",
    "    sample_stock_index = stock_index[sample_mask]\n",
    "\n",
    "    # 找到与股票数据时间戳最接近的市场数据时间戳索引\n",
    "    closest_indices = find_closest_index(sample_stock_index, market_index)\n",
    "    sample_market_log_returns = market_log_returns[closest_indices]\n",
    "\n",
    "    # Calculate alpha and beta using the sample data\n",
    "    X = sm.add_constant(sample_market_log_returns)\n",
    "    model = sm.OLS(sample_stock_log_returns, X).fit()\n",
    "    alpha = model.params[0]\n",
    "    beta = model.params[1]\n",
    "\n",
    "    return alpha, beta\n",
    "\n",
    "@njit(parallel=True)\n",
    "def calculate_excess_returns(stock_log_returns, stock_index, index_log_returns, index_index, alpha, beta):\n",
    "    n_stock_timestamps = stock_log_returns.shape[0]\n",
    "    n_index_timestamps = index_log_returns.shape[0]\n",
    "\n",
    "    # Create arrays to store results\n",
    "    excess_returns = np.full(n_stock_timestamps, np.nan)\n",
    "\n",
    "    # Initialize pointers\n",
    "    index_pointer = 0\n",
    "\n",
    "    # Iterate through stock timestamps\n",
    "    for i in prange(n_stock_timestamps):\n",
    "        stock_timestamp = stock_index[i]\n",
    "\n",
    "        # Move index pointer to the latest log return before or at the stock time\n",
    "        while index_pointer < n_index_timestamps and index_index[index_pointer] <= stock_timestamp:\n",
    "            index_pointer += 1\n",
    "\n",
    "        # Ensure we have a valid pointer to use\n",
    "        if index_pointer > 0:\n",
    "            closest_market_log_return = index_log_returns[index_pointer - 1]\n",
    "            excess_returns[i] = stock_log_returns[i] - (alpha + beta * closest_market_log_return)\n",
    "\n",
    "    return excess_returns"
   ]
  },
  {
   "cell_type": "code",
   "execution_count": 27,
   "metadata": {},
   "outputs": [
    {
     "name": "stderr",
     "output_type": "stream",
     "text": [
      "  0%|          | 0/100 [00:02<?, ?it/s]\n"
     ]
    },
    {
     "ename": "IndexError",
     "evalue": "boolean index did not match indexed array along dimension 1; dimension is 1 but corresponding boolean dimension is 2",
     "output_type": "error",
     "traceback": [
      "\u001b[0;31m---------------------------------------------------------------------------\u001b[0m",
      "\u001b[0;31mIndexError\u001b[0m                                Traceback (most recent call last)",
      "Cell \u001b[0;32mIn[27], line 11\u001b[0m\n\u001b[1;32m      8\u001b[0m     raw_timestamp \u001b[38;5;241m=\u001b[39m f[\u001b[38;5;124m\"\u001b[39m\u001b[38;5;124mtimestamp\u001b[39m\u001b[38;5;124m\"\u001b[39m][:]\n\u001b[1;32m     10\u001b[0m \u001b[38;5;66;03m# 计算回归系数 alpha 和 beta\u001b[39;00m\n\u001b[0;32m---> 11\u001b[0m alpha, beta \u001b[38;5;241m=\u001b[39m \u001b[43mcalculate_regression_params\u001b[49m\u001b[43m(\u001b[49m\u001b[43mraw_label\u001b[49m\u001b[43m,\u001b[49m\u001b[43m \u001b[49m\u001b[43mraw_timestamp\u001b[49m\u001b[43m,\u001b[49m\u001b[43m \u001b[49m\u001b[43mlogret\u001b[49m\u001b[43m,\u001b[49m\u001b[43m \u001b[49m\u001b[43mdatetime\u001b[49m\u001b[43m,\u001b[49m\u001b[43m \u001b[49m\u001b[43mstart_date\u001b[49m\u001b[43m,\u001b[49m\u001b[43m \u001b[49m\u001b[43mend_date\u001b[49m\u001b[43m)\u001b[49m\n\u001b[1;32m     13\u001b[0m \u001b[38;5;66;03m# 计算超额收益\u001b[39;00m\n\u001b[1;32m     14\u001b[0m excess_returns \u001b[38;5;241m=\u001b[39m calculate_excess_returns(raw_label, raw_timestamp, logret, datetime, alpha, beta)\n",
      "Cell \u001b[0;32mIn[26], line 76\u001b[0m, in \u001b[0;36mcalculate_regression_params\u001b[0;34m(stock_log_returns, stock_index, market_log_returns, market_index, start_date, end_date)\u001b[0m\n\u001b[1;32m     73\u001b[0m \u001b[38;5;28;01mdef\u001b[39;00m \u001b[38;5;21mcalculate_regression_params\u001b[39m(stock_log_returns, stock_index, market_log_returns, market_index, start_date, end_date):\n\u001b[1;32m     74\u001b[0m     \u001b[38;5;66;03m# Filter the data within the sample period\u001b[39;00m\n\u001b[1;32m     75\u001b[0m     sample_mask \u001b[38;5;241m=\u001b[39m (stock_index \u001b[38;5;241m>\u001b[39m\u001b[38;5;241m=\u001b[39m start_date) \u001b[38;5;241m&\u001b[39m (stock_index \u001b[38;5;241m<\u001b[39m\u001b[38;5;241m=\u001b[39m end_date)\n\u001b[0;32m---> 76\u001b[0m     sample_stock_log_returns \u001b[38;5;241m=\u001b[39m \u001b[43mstock_log_returns\u001b[49m\u001b[43m[\u001b[49m\u001b[43msample_mask\u001b[49m\u001b[43m]\u001b[49m\n\u001b[1;32m     77\u001b[0m     sample_stock_index \u001b[38;5;241m=\u001b[39m stock_index[sample_mask]\n\u001b[1;32m     79\u001b[0m     \u001b[38;5;66;03m# 找到与股票数据时间戳最接近的市场数据时间戳索引\u001b[39;00m\n",
      "\u001b[0;31mIndexError\u001b[0m: boolean index did not match indexed array along dimension 1; dimension is 1 but corresponding boolean dimension is 2"
     ]
    }
   ],
   "source": [
    "start_date = 20210101\n",
    "end_date = 20210401\n",
    "\n",
    "# 遍历所选股票代码，计算并保存超额收益\n",
    "for cur_code in tqdm(cm.SELECTED_CODES):\n",
    "    raw_label = sa.attach(f\"label_{cur_code}\")\n",
    "    with File(f\"/mnt/nas/data/股票数据hdf5/stkCode_{cur_code}.h5\", \"r\") as f:\n",
    "        raw_timestamp = f[\"timestamp\"][:]\n",
    "\n",
    "    # 计算回归系数 alpha 和 beta\n",
    "    alpha, beta = calculate_regression_params(raw_label, raw_timestamp, logret, datetime, start_date, end_date)\n",
    "    \n",
    "    # 计算超额收益\n",
    "    excess_returns = calculate_excess_returns(raw_label, raw_timestamp, logret, datetime, alpha, beta)\n",
    "    \n",
    "    # 保存结果到新的目录\n",
    "    np.save(f\"/mnt/disk2/excess_return_regression/{cur_code}.npy\", excess_returns.astype(np.float32))\n",
    "\n",
    "print(\"超额收益计算并保存完毕。\")"
   ]
  },
  {
   "cell_type": "code",
   "execution_count": 34,
   "metadata": {},
   "outputs": [
    {
     "ename": "TypeError",
     "evalue": "find_closest_market_returns() missing 1 required positional argument: 'market_log_returns'",
     "output_type": "error",
     "traceback": [
      "\u001b[0;31m---------------------------------------------------------------------------\u001b[0m",
      "\u001b[0;31mTypeError\u001b[0m                                 Traceback (most recent call last)",
      "Cell \u001b[0;32mIn[34], line 24\u001b[0m\n\u001b[1;32m     21\u001b[0m \u001b[38;5;28;01mwith\u001b[39;00m File(\u001b[38;5;124m\"\u001b[39m\u001b[38;5;124m/mnt/nas/data/1s数据/stk_strN_0_endN_999.h5\u001b[39m\u001b[38;5;124m\"\u001b[39m, \u001b[38;5;124m\"\u001b[39m\u001b[38;5;124mr\u001b[39m\u001b[38;5;124m\"\u001b[39m) \u001b[38;5;28;01mas\u001b[39;00m f:\n\u001b[1;32m     22\u001b[0m     mkt_timestamp \u001b[38;5;241m=\u001b[39m f[\u001b[38;5;124m\"\u001b[39m\u001b[38;5;124mdatatime\u001b[39m\u001b[38;5;124m\"\u001b[39m][:]\n\u001b[0;32m---> 24\u001b[0m index \u001b[38;5;241m=\u001b[39m \u001b[43mfind_closest_market_returns\u001b[49m\u001b[43m(\u001b[49m\u001b[43mraw_timestamp\u001b[49m\u001b[43m,\u001b[49m\u001b[43m \u001b[49m\u001b[43mmkt_timestamp\u001b[49m\u001b[43m)\u001b[49m\n",
      "\u001b[0;31mTypeError\u001b[0m: find_closest_market_returns() missing 1 required positional argument: 'market_log_returns'"
     ]
    }
   ],
   "source": [
    "def combine_timestamp(date, time):\n",
    "    return date * 1000000 + time\n",
    "\n",
    "def find_closest_market_returns(stock_index, market_index, market_log_returns):\n",
    "    n_stock = stock_index.shape[0]\n",
    "    n_market = market_index.shape[0]\n",
    "    closest_market_returns = np.empty(n_stock)\n",
    "\n",
    "    market_pointer = 0\n",
    "    for i in range(n_stock):\n",
    "        stock_timestamp = stock_index[i]\n",
    "        while market_pointer < n_market - 1 and market_index[market_pointer + 1] <= stock_timestamp:\n",
    "            market_pointer += 1\n",
    "        closest_market_returns[i] = market_log_returns[market_pointer]\n",
    "\n",
    "    return closest_market_returns\n",
    "\n",
    "\n",
    "with File(f\"/mnt/nas/data/股票数据hdf5/stkCode_{cur_code}.h5\", \"r\") as f:\n",
    "    raw_timestamp = f[\"timestamp\"][:]\n",
    "with File(\"/mnt/nas/data/1s数据/stk_strN_0_endN_999.h5\", \"r\") as f:\n",
    "    mkt_timestamp = f[\"datatime\"][:]\n",
    "\n",
    "index = find_closest_market_returns(raw_timestamp, mkt_timestamp)"
   ]
  },
  {
   "cell_type": "code",
   "execution_count": 30,
   "metadata": {},
   "outputs": [
    {
     "data": {
      "text/plain": [
       "array([[20210104,    93000],\n",
       "       [20210104,    93003],\n",
       "       [20210104,    93006],\n",
       "       ...,\n",
       "       [20221230,   145651],\n",
       "       [20221230,   145654],\n",
       "       [20221230,   145657]])"
      ]
     },
     "execution_count": 30,
     "metadata": {},
     "output_type": "execute_result"
    }
   ],
   "source": [
    "raw_timestamp"
   ]
  },
  {
   "cell_type": "code",
   "execution_count": 32,
   "metadata": {},
   "outputs": [
    {
     "data": {
      "text/plain": [
       "array([[20210104,    93000],\n",
       "       [20210104,    93001],\n",
       "       [20210104,    93002],\n",
       "       ...,\n",
       "       [20231229,   145657],\n",
       "       [20231229,   145658],\n",
       "       [20231229,   145659]], dtype=int32)"
      ]
     },
     "execution_count": 32,
     "metadata": {},
     "output_type": "execute_result"
    }
   ],
   "source": [
    "mkt_timestamp"
   ]
  },
  {
   "cell_type": "code",
   "execution_count": 1,
   "metadata": {},
   "outputs": [],
   "source": [
    "import numpy as np"
   ]
  },
  {
   "cell_type": "code",
   "execution_count": 6,
   "metadata": {},
   "outputs": [],
   "source": [
    "code = \"000537\"\n",
    "new = np.load(f\"/mnt/disk2/factor_0626/000537/000537.npy\")"
   ]
  },
  {
   "cell_type": "code",
   "execution_count": 9,
   "metadata": {},
   "outputs": [],
   "source": [
    "raw = np.load(f\"/mnt/nas/data/WY/factor_0527/stkCode_000537.npy\")"
   ]
  },
  {
   "cell_type": "code",
   "execution_count": 10,
   "metadata": {},
   "outputs": [
    {
     "data": {
      "text/plain": [
       "0"
      ]
     },
     "execution_count": 10,
     "metadata": {},
     "output_type": "execute_result"
    }
   ],
   "source": [
    "len(raw)-len(new)"
   ]
  },
  {
   "cell_type": "code",
   "execution_count": null,
   "metadata": {},
   "outputs": [],
   "source": []
  }
 ],
 "metadata": {
  "kernelspec": {
   "display_name": "base",
   "language": "python",
   "name": "python3"
  },
  "language_info": {
   "codemirror_mode": {
    "name": "ipython",
    "version": 3
   },
   "file_extension": ".py",
   "mimetype": "text/x-python",
   "name": "python",
   "nbconvert_exporter": "python",
   "pygments_lexer": "ipython3",
   "version": "3.12.2"
  }
 },
 "nbformat": 4,
 "nbformat_minor": 2
}
