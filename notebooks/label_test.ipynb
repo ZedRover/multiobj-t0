{
 "cells": [
  {
   "cell_type": "markdown",
   "metadata": {},
   "source": [
    "## Genearete labels"
   ]
  },
  {
   "cell_type": "code",
   "execution_count": 2,
   "metadata": {},
   "outputs": [
    {
     "name": "stderr",
     "output_type": "stream",
     "text": [
      "  0%|          | 0/100 [00:00<?, ?it/s]"
     ]
    },
    {
     "name": "stderr",
     "output_type": "stream",
     "text": [
      "  1%|          | 1/100 [00:03<05:44,  3.48s/it]"
     ]
    },
    {
     "name": "stdout",
     "output_type": "stream",
     "text": [
      "Processed and saved features for 000537\n"
     ]
    },
    {
     "name": "stderr",
     "output_type": "stream",
     "text": [
      "  2%|▏         | 2/100 [00:06<05:37,  3.44s/it]"
     ]
    },
    {
     "name": "stdout",
     "output_type": "stream",
     "text": [
      "Processed and saved features for 000627\n"
     ]
    },
    {
     "name": "stderr",
     "output_type": "stream",
     "text": [
      "  3%|▎         | 3/100 [00:10<05:22,  3.33s/it]"
     ]
    },
    {
     "name": "stdout",
     "output_type": "stream",
     "text": [
      "Processed and saved features for 000925\n"
     ]
    },
    {
     "name": "stderr",
     "output_type": "stream",
     "text": [
      "  4%|▍         | 4/100 [00:13<05:12,  3.26s/it]"
     ]
    },
    {
     "name": "stdout",
     "output_type": "stream",
     "text": [
      "Processed and saved features for 000950\n"
     ]
    },
    {
     "name": "stderr",
     "output_type": "stream",
     "text": [
      "  5%|▌         | 5/100 [00:14<04:14,  2.68s/it]"
     ]
    },
    {
     "name": "stdout",
     "output_type": "stream",
     "text": [
      "Processed and saved features for 002058\n"
     ]
    },
    {
     "name": "stderr",
     "output_type": "stream",
     "text": [
      "  6%|▌         | 6/100 [00:18<04:30,  2.88s/it]"
     ]
    },
    {
     "name": "stdout",
     "output_type": "stream",
     "text": [
      "Processed and saved features for 002166\n"
     ]
    },
    {
     "name": "stderr",
     "output_type": "stream",
     "text": [
      "  7%|▋         | 7/100 [00:21<04:37,  2.99s/it]"
     ]
    },
    {
     "name": "stdout",
     "output_type": "stream",
     "text": [
      "Processed and saved features for 002308\n"
     ]
    },
    {
     "name": "stderr",
     "output_type": "stream",
     "text": [
      "  8%|▊         | 8/100 [00:24<04:32,  2.96s/it]"
     ]
    },
    {
     "name": "stdout",
     "output_type": "stream",
     "text": [
      "Processed and saved features for 002399\n"
     ]
    },
    {
     "name": "stderr",
     "output_type": "stream",
     "text": [
      "  9%|▉         | 9/100 [00:27<04:45,  3.14s/it]"
     ]
    },
    {
     "name": "stdout",
     "output_type": "stream",
     "text": [
      "Processed and saved features for 002498\n"
     ]
    },
    {
     "name": "stderr",
     "output_type": "stream",
     "text": [
      " 10%|█         | 10/100 [00:31<05:00,  3.34s/it]"
     ]
    },
    {
     "name": "stdout",
     "output_type": "stream",
     "text": [
      "Processed and saved features for 002557\n"
     ]
    },
    {
     "name": "stderr",
     "output_type": "stream",
     "text": [
      " 11%|█         | 11/100 [00:34<04:38,  3.12s/it]"
     ]
    },
    {
     "name": "stdout",
     "output_type": "stream",
     "text": [
      "Processed and saved features for 002577\n"
     ]
    },
    {
     "name": "stderr",
     "output_type": "stream",
     "text": [
      " 12%|█▏        | 12/100 [00:38<05:01,  3.42s/it]"
     ]
    },
    {
     "name": "stdout",
     "output_type": "stream",
     "text": [
      "Processed and saved features for 002594\n"
     ]
    },
    {
     "name": "stderr",
     "output_type": "stream",
     "text": [
      " 13%|█▎        | 13/100 [00:41<04:45,  3.29s/it]"
     ]
    },
    {
     "name": "stdout",
     "output_type": "stream",
     "text": [
      "Processed and saved features for 002901\n"
     ]
    },
    {
     "name": "stderr",
     "output_type": "stream",
     "text": [
      " 14%|█▍        | 14/100 [00:44<04:48,  3.36s/it]"
     ]
    },
    {
     "name": "stdout",
     "output_type": "stream",
     "text": [
      "Processed and saved features for 002941\n"
     ]
    },
    {
     "name": "stderr",
     "output_type": "stream",
     "text": [
      " 15%|█▌        | 15/100 [00:48<04:44,  3.34s/it]"
     ]
    },
    {
     "name": "stdout",
     "output_type": "stream",
     "text": [
      "Processed and saved features for 002946\n"
     ]
    },
    {
     "name": "stderr",
     "output_type": "stream",
     "text": [
      " 16%|█▌        | 16/100 [00:51<04:43,  3.38s/it]"
     ]
    },
    {
     "name": "stdout",
     "output_type": "stream",
     "text": [
      "Processed and saved features for 300053\n"
     ]
    },
    {
     "name": "stderr",
     "output_type": "stream",
     "text": [
      " 17%|█▋        | 17/100 [00:54<04:27,  3.22s/it]"
     ]
    },
    {
     "name": "stdout",
     "output_type": "stream",
     "text": [
      "Processed and saved features for 300137\n"
     ]
    },
    {
     "name": "stderr",
     "output_type": "stream",
     "text": [
      " 18%|█▊        | 18/100 [00:57<04:16,  3.13s/it]"
     ]
    },
    {
     "name": "stdout",
     "output_type": "stream",
     "text": [
      "Processed and saved features for 300141\n"
     ]
    },
    {
     "name": "stderr",
     "output_type": "stream",
     "text": [
      " 19%|█▉        | 19/100 [01:00<04:06,  3.04s/it]"
     ]
    },
    {
     "name": "stdout",
     "output_type": "stream",
     "text": [
      "Processed and saved features for 300215\n"
     ]
    },
    {
     "name": "stderr",
     "output_type": "stream",
     "text": [
      " 20%|██        | 20/100 [01:03<04:09,  3.11s/it]"
     ]
    },
    {
     "name": "stdout",
     "output_type": "stream",
     "text": [
      "Processed and saved features for 300225\n"
     ]
    },
    {
     "name": "stderr",
     "output_type": "stream",
     "text": [
      " 21%|██        | 21/100 [01:06<04:09,  3.16s/it]"
     ]
    },
    {
     "name": "stdout",
     "output_type": "stream",
     "text": [
      "Processed and saved features for 300241\n"
     ]
    },
    {
     "name": "stderr",
     "output_type": "stream",
     "text": [
      " 22%|██▏       | 22/100 [01:10<04:11,  3.22s/it]"
     ]
    },
    {
     "name": "stdout",
     "output_type": "stream",
     "text": [
      "Processed and saved features for 300252\n"
     ]
    },
    {
     "name": "stderr",
     "output_type": "stream",
     "text": [
      " 23%|██▎       | 23/100 [01:14<04:24,  3.44s/it]"
     ]
    },
    {
     "name": "stdout",
     "output_type": "stream",
     "text": [
      "Processed and saved features for 300366\n"
     ]
    },
    {
     "name": "stderr",
     "output_type": "stream",
     "text": [
      " 24%|██▍       | 24/100 [01:18<04:40,  3.69s/it]"
     ]
    },
    {
     "name": "stdout",
     "output_type": "stream",
     "text": [
      "Processed and saved features for 300498\n"
     ]
    },
    {
     "name": "stderr",
     "output_type": "stream",
     "text": [
      " 25%|██▌       | 25/100 [01:20<04:05,  3.27s/it]"
     ]
    },
    {
     "name": "stdout",
     "output_type": "stream",
     "text": [
      "Processed and saved features for 300564\n"
     ]
    },
    {
     "name": "stderr",
     "output_type": "stream",
     "text": [
      " 26%|██▌       | 26/100 [01:23<03:55,  3.18s/it]"
     ]
    },
    {
     "name": "stdout",
     "output_type": "stream",
     "text": [
      "Processed and saved features for 300605\n"
     ]
    },
    {
     "name": "stderr",
     "output_type": "stream",
     "text": [
      " 27%|██▋       | 27/100 [01:26<03:36,  2.96s/it]"
     ]
    },
    {
     "name": "stdout",
     "output_type": "stream",
     "text": [
      "Processed and saved features for 300640\n"
     ]
    },
    {
     "name": "stderr",
     "output_type": "stream",
     "text": [
      " 28%|██▊       | 28/100 [01:29<03:42,  3.10s/it]"
     ]
    },
    {
     "name": "stdout",
     "output_type": "stream",
     "text": [
      "Processed and saved features for 300688\n"
     ]
    },
    {
     "name": "stderr",
     "output_type": "stream",
     "text": [
      " 29%|██▉       | 29/100 [01:32<03:36,  3.04s/it]"
     ]
    },
    {
     "name": "stdout",
     "output_type": "stream",
     "text": [
      "Processed and saved features for 300713\n"
     ]
    },
    {
     "name": "stderr",
     "output_type": "stream",
     "text": [
      " 30%|███       | 30/100 [01:35<03:25,  2.94s/it]"
     ]
    },
    {
     "name": "stdout",
     "output_type": "stream",
     "text": [
      "Processed and saved features for 300867\n"
     ]
    },
    {
     "name": "stderr",
     "output_type": "stream",
     "text": [
      " 31%|███       | 31/100 [01:37<03:19,  2.90s/it]"
     ]
    },
    {
     "name": "stdout",
     "output_type": "stream",
     "text": [
      "Processed and saved features for 300870\n"
     ]
    },
    {
     "name": "stderr",
     "output_type": "stream",
     "text": [
      " 32%|███▏      | 32/100 [01:40<03:13,  2.84s/it]"
     ]
    },
    {
     "name": "stdout",
     "output_type": "stream",
     "text": [
      "Processed and saved features for 300908\n"
     ]
    },
    {
     "name": "stderr",
     "output_type": "stream",
     "text": [
      " 33%|███▎      | 33/100 [01:43<03:16,  2.93s/it]"
     ]
    },
    {
     "name": "stdout",
     "output_type": "stream",
     "text": [
      "Processed and saved features for 300913\n"
     ]
    },
    {
     "name": "stderr",
     "output_type": "stream",
     "text": [
      " 34%|███▍      | 34/100 [01:47<03:30,  3.19s/it]"
     ]
    },
    {
     "name": "stdout",
     "output_type": "stream",
     "text": [
      "Processed and saved features for 600006\n"
     ]
    },
    {
     "name": "stderr",
     "output_type": "stream",
     "text": [
      " 35%|███▌      | 35/100 [01:50<03:27,  3.19s/it]"
     ]
    },
    {
     "name": "stdout",
     "output_type": "stream",
     "text": [
      "Processed and saved features for 600012\n"
     ]
    },
    {
     "name": "stderr",
     "output_type": "stream",
     "text": [
      " 36%|███▌      | 36/100 [01:53<03:15,  3.06s/it]"
     ]
    },
    {
     "name": "stdout",
     "output_type": "stream",
     "text": [
      "Processed and saved features for 600107\n"
     ]
    },
    {
     "name": "stderr",
     "output_type": "stream",
     "text": [
      " 37%|███▋      | 37/100 [01:57<03:24,  3.25s/it]"
     ]
    },
    {
     "name": "stdout",
     "output_type": "stream",
     "text": [
      "Processed and saved features for 600123\n"
     ]
    },
    {
     "name": "stderr",
     "output_type": "stream",
     "text": [
      " 38%|███▊      | 38/100 [02:00<03:31,  3.41s/it]"
     ]
    },
    {
     "name": "stdout",
     "output_type": "stream",
     "text": [
      "Processed and saved features for 600127\n"
     ]
    },
    {
     "name": "stderr",
     "output_type": "stream",
     "text": [
      " 39%|███▉      | 39/100 [02:04<03:36,  3.56s/it]"
     ]
    },
    {
     "name": "stdout",
     "output_type": "stream",
     "text": [
      "Processed and saved features for 600163\n"
     ]
    },
    {
     "name": "stderr",
     "output_type": "stream",
     "text": [
      " 40%|████      | 40/100 [02:08<03:44,  3.74s/it]"
     ]
    },
    {
     "name": "stdout",
     "output_type": "stream",
     "text": [
      "Processed and saved features for 600176\n"
     ]
    },
    {
     "name": "stderr",
     "output_type": "stream",
     "text": [
      " 41%|████      | 41/100 [02:12<03:33,  3.63s/it]"
     ]
    },
    {
     "name": "stdout",
     "output_type": "stream",
     "text": [
      "Processed and saved features for 600218\n"
     ]
    },
    {
     "name": "stderr",
     "output_type": "stream",
     "text": [
      " 42%|████▏     | 42/100 [02:14<03:11,  3.30s/it]"
     ]
    },
    {
     "name": "stdout",
     "output_type": "stream",
     "text": [
      "Processed and saved features for 600232\n"
     ]
    },
    {
     "name": "stderr",
     "output_type": "stream",
     "text": [
      " 43%|████▎     | 43/100 [02:18<03:13,  3.39s/it]"
     ]
    },
    {
     "name": "stdout",
     "output_type": "stream",
     "text": [
      "Processed and saved features for 600267\n"
     ]
    },
    {
     "name": "stderr",
     "output_type": "stream",
     "text": [
      " 44%|████▍     | 44/100 [02:21<02:56,  3.15s/it]"
     ]
    },
    {
     "name": "stdout",
     "output_type": "stream",
     "text": [
      "Processed and saved features for 600302\n"
     ]
    },
    {
     "name": "stderr",
     "output_type": "stream",
     "text": [
      " 45%|████▌     | 45/100 [02:25<03:09,  3.44s/it]"
     ]
    },
    {
     "name": "stdout",
     "output_type": "stream",
     "text": [
      "Processed and saved features for 600395\n"
     ]
    },
    {
     "name": "stderr",
     "output_type": "stream",
     "text": [
      " 46%|████▌     | 46/100 [02:29<03:16,  3.64s/it]"
     ]
    },
    {
     "name": "stdout",
     "output_type": "stream",
     "text": [
      "Processed and saved features for 600426\n"
     ]
    },
    {
     "name": "stderr",
     "output_type": "stream",
     "text": [
      " 47%|████▋     | 47/100 [02:33<03:16,  3.70s/it]"
     ]
    },
    {
     "name": "stdout",
     "output_type": "stream",
     "text": [
      "Processed and saved features for 600428\n"
     ]
    },
    {
     "name": "stderr",
     "output_type": "stream",
     "text": [
      " 48%|████▊     | 48/100 [02:35<02:57,  3.42s/it]"
     ]
    },
    {
     "name": "stdout",
     "output_type": "stream",
     "text": [
      "Processed and saved features for 600493\n"
     ]
    },
    {
     "name": "stderr",
     "output_type": "stream",
     "text": [
      " 49%|████▉     | 49/100 [02:39<02:58,  3.49s/it]"
     ]
    },
    {
     "name": "stdout",
     "output_type": "stream",
     "text": [
      "Processed and saved features for 600557\n"
     ]
    },
    {
     "name": "stderr",
     "output_type": "stream",
     "text": [
      " 50%|█████     | 50/100 [02:43<03:00,  3.61s/it]"
     ]
    },
    {
     "name": "stdout",
     "output_type": "stream",
     "text": [
      "Processed and saved features for 600578\n"
     ]
    },
    {
     "name": "stderr",
     "output_type": "stream",
     "text": [
      " 51%|█████     | 51/100 [02:46<02:50,  3.47s/it]"
     ]
    },
    {
     "name": "stdout",
     "output_type": "stream",
     "text": [
      "Processed and saved features for 600644\n"
     ]
    },
    {
     "name": "stderr",
     "output_type": "stream",
     "text": [
      " 52%|█████▏    | 52/100 [02:48<02:26,  3.05s/it]"
     ]
    },
    {
     "name": "stdout",
     "output_type": "stream",
     "text": [
      "Processed and saved features for 600647\n"
     ]
    },
    {
     "name": "stderr",
     "output_type": "stream",
     "text": [
      " 53%|█████▎    | 53/100 [02:51<02:24,  3.07s/it]"
     ]
    },
    {
     "name": "stdout",
     "output_type": "stream",
     "text": [
      "Processed and saved features for 600665\n"
     ]
    },
    {
     "name": "stderr",
     "output_type": "stream",
     "text": [
      " 54%|█████▍    | 54/100 [02:55<02:31,  3.30s/it]"
     ]
    },
    {
     "name": "stdout",
     "output_type": "stream",
     "text": [
      "Processed and saved features for 600704\n"
     ]
    },
    {
     "name": "stderr",
     "output_type": "stream",
     "text": [
      " 55%|█████▌    | 55/100 [02:59<02:33,  3.42s/it]"
     ]
    },
    {
     "name": "stdout",
     "output_type": "stream",
     "text": [
      "Processed and saved features for 600740\n"
     ]
    },
    {
     "name": "stderr",
     "output_type": "stream",
     "text": [
      " 56%|█████▌    | 56/100 [03:03<02:34,  3.51s/it]"
     ]
    },
    {
     "name": "stdout",
     "output_type": "stream",
     "text": [
      "Processed and saved features for 600797\n"
     ]
    },
    {
     "name": "stderr",
     "output_type": "stream",
     "text": [
      " 57%|█████▋    | 57/100 [03:05<02:18,  3.21s/it]"
     ]
    },
    {
     "name": "stdout",
     "output_type": "stream",
     "text": [
      "Processed and saved features for 600817\n"
     ]
    },
    {
     "name": "stderr",
     "output_type": "stream",
     "text": [
      " 58%|█████▊    | 58/100 [03:08<02:09,  3.07s/it]"
     ]
    },
    {
     "name": "stdout",
     "output_type": "stream",
     "text": [
      "Processed and saved features for 600834\n"
     ]
    },
    {
     "name": "stderr",
     "output_type": "stream",
     "text": [
      " 59%|█████▉    | 59/100 [03:12<02:16,  3.32s/it]"
     ]
    },
    {
     "name": "stdout",
     "output_type": "stream",
     "text": [
      "Processed and saved features for 600859\n"
     ]
    },
    {
     "name": "stderr",
     "output_type": "stream",
     "text": [
      " 60%|██████    | 60/100 [03:16<02:21,  3.54s/it]"
     ]
    },
    {
     "name": "stdout",
     "output_type": "stream",
     "text": [
      "Processed and saved features for 600862\n"
     ]
    },
    {
     "name": "stderr",
     "output_type": "stream",
     "text": [
      " 61%|██████    | 61/100 [03:20<02:25,  3.74s/it]"
     ]
    },
    {
     "name": "stdout",
     "output_type": "stream",
     "text": [
      "Processed and saved features for 600893\n"
     ]
    },
    {
     "name": "stderr",
     "output_type": "stream",
     "text": [
      " 62%|██████▏   | 62/100 [03:24<02:20,  3.69s/it]"
     ]
    },
    {
     "name": "stdout",
     "output_type": "stream",
     "text": [
      "Processed and saved features for 600984\n"
     ]
    },
    {
     "name": "stderr",
     "output_type": "stream",
     "text": [
      " 63%|██████▎   | 63/100 [03:27<02:10,  3.54s/it]"
     ]
    },
    {
     "name": "stdout",
     "output_type": "stream",
     "text": [
      "Processed and saved features for 601019\n"
     ]
    },
    {
     "name": "stderr",
     "output_type": "stream",
     "text": [
      " 64%|██████▍   | 64/100 [03:30<02:04,  3.45s/it]"
     ]
    },
    {
     "name": "stdout",
     "output_type": "stream",
     "text": [
      "Processed and saved features for 601330\n"
     ]
    },
    {
     "name": "stderr",
     "output_type": "stream",
     "text": [
      " 65%|██████▌   | 65/100 [03:34<02:06,  3.61s/it]"
     ]
    },
    {
     "name": "stdout",
     "output_type": "stream",
     "text": [
      "Processed and saved features for 601881\n"
     ]
    },
    {
     "name": "stderr",
     "output_type": "stream",
     "text": [
      " 66%|██████▌   | 66/100 [03:37<01:52,  3.32s/it]"
     ]
    },
    {
     "name": "stdout",
     "output_type": "stream",
     "text": [
      "Processed and saved features for 603006\n"
     ]
    },
    {
     "name": "stderr",
     "output_type": "stream",
     "text": [
      " 67%|██████▋   | 67/100 [03:39<01:42,  3.12s/it]"
     ]
    },
    {
     "name": "stdout",
     "output_type": "stream",
     "text": [
      "Processed and saved features for 603017\n"
     ]
    },
    {
     "name": "stderr",
     "output_type": "stream",
     "text": [
      " 68%|██████▊   | 68/100 [03:43<01:41,  3.17s/it]"
     ]
    },
    {
     "name": "stdout",
     "output_type": "stream",
     "text": [
      "Processed and saved features for 603018\n"
     ]
    },
    {
     "name": "stderr",
     "output_type": "stream",
     "text": [
      " 69%|██████▉   | 69/100 [03:45<01:32,  2.97s/it]"
     ]
    },
    {
     "name": "stdout",
     "output_type": "stream",
     "text": [
      "Processed and saved features for 603037\n"
     ]
    },
    {
     "name": "stderr",
     "output_type": "stream",
     "text": [
      " 70%|███████   | 70/100 [03:47<01:23,  2.78s/it]"
     ]
    },
    {
     "name": "stdout",
     "output_type": "stream",
     "text": [
      "Processed and saved features for 603192\n"
     ]
    },
    {
     "name": "stderr",
     "output_type": "stream",
     "text": [
      " 71%|███████   | 71/100 [03:51<01:30,  3.12s/it]"
     ]
    },
    {
     "name": "stdout",
     "output_type": "stream",
     "text": [
      "Processed and saved features for 603212\n"
     ]
    },
    {
     "name": "stderr",
     "output_type": "stream",
     "text": [
      " 72%|███████▏  | 72/100 [03:54<01:24,  3.02s/it]"
     ]
    },
    {
     "name": "stdout",
     "output_type": "stream",
     "text": [
      "Processed and saved features for 603269\n"
     ]
    },
    {
     "name": "stderr",
     "output_type": "stream",
     "text": [
      " 73%|███████▎  | 73/100 [03:57<01:22,  3.05s/it]"
     ]
    },
    {
     "name": "stdout",
     "output_type": "stream",
     "text": [
      "Processed and saved features for 603357\n"
     ]
    },
    {
     "name": "stderr",
     "output_type": "stream",
     "text": [
      " 74%|███████▍  | 74/100 [04:01<01:22,  3.16s/it]"
     ]
    },
    {
     "name": "stdout",
     "output_type": "stream",
     "text": [
      "Processed and saved features for 603368\n"
     ]
    },
    {
     "name": "stderr",
     "output_type": "stream",
     "text": [
      " 75%|███████▌  | 75/100 [04:03<01:15,  3.03s/it]"
     ]
    },
    {
     "name": "stdout",
     "output_type": "stream",
     "text": [
      "Processed and saved features for 603388\n"
     ]
    },
    {
     "name": "stderr",
     "output_type": "stream",
     "text": [
      " 76%|███████▌  | 76/100 [04:06<01:10,  2.94s/it]"
     ]
    },
    {
     "name": "stdout",
     "output_type": "stream",
     "text": [
      "Processed and saved features for 603390\n"
     ]
    },
    {
     "name": "stderr",
     "output_type": "stream",
     "text": [
      " 77%|███████▋  | 77/100 [04:09<01:06,  2.91s/it]"
     ]
    },
    {
     "name": "stdout",
     "output_type": "stream",
     "text": [
      "Processed and saved features for 603559\n"
     ]
    },
    {
     "name": "stderr",
     "output_type": "stream",
     "text": [
      " 78%|███████▊  | 78/100 [04:13<01:09,  3.16s/it]"
     ]
    },
    {
     "name": "stdout",
     "output_type": "stream",
     "text": [
      "Processed and saved features for 603595\n"
     ]
    },
    {
     "name": "stderr",
     "output_type": "stream",
     "text": [
      " 79%|███████▉  | 79/100 [04:16<01:07,  3.23s/it]"
     ]
    },
    {
     "name": "stdout",
     "output_type": "stream",
     "text": [
      "Processed and saved features for 603693\n"
     ]
    },
    {
     "name": "stderr",
     "output_type": "stream",
     "text": [
      " 80%|████████  | 80/100 [04:20<01:08,  3.42s/it]"
     ]
    },
    {
     "name": "stdout",
     "output_type": "stream",
     "text": [
      "Processed and saved features for 603712\n"
     ]
    },
    {
     "name": "stderr",
     "output_type": "stream",
     "text": [
      " 81%|████████  | 81/100 [04:23<01:04,  3.40s/it]"
     ]
    },
    {
     "name": "stdout",
     "output_type": "stream",
     "text": [
      "Processed and saved features for 603777\n"
     ]
    },
    {
     "name": "stderr",
     "output_type": "stream",
     "text": [
      " 82%|████████▏ | 82/100 [04:26<00:59,  3.29s/it]"
     ]
    },
    {
     "name": "stdout",
     "output_type": "stream",
     "text": [
      "Processed and saved features for 603818\n"
     ]
    },
    {
     "name": "stderr",
     "output_type": "stream",
     "text": [
      " 83%|████████▎ | 83/100 [04:29<00:54,  3.22s/it]"
     ]
    },
    {
     "name": "stdout",
     "output_type": "stream",
     "text": [
      "Processed and saved features for 603856\n"
     ]
    },
    {
     "name": "stderr",
     "output_type": "stream",
     "text": [
      " 84%|████████▍ | 84/100 [04:32<00:50,  3.15s/it]"
     ]
    },
    {
     "name": "stdout",
     "output_type": "stream",
     "text": [
      "Processed and saved features for 603878\n"
     ]
    },
    {
     "name": "stderr",
     "output_type": "stream",
     "text": [
      " 85%|████████▌ | 85/100 [04:36<00:50,  3.40s/it]"
     ]
    },
    {
     "name": "stdout",
     "output_type": "stream",
     "text": [
      "Processed and saved features for 603939\n"
     ]
    },
    {
     "name": "stderr",
     "output_type": "stream",
     "text": [
      " 86%|████████▌ | 86/100 [04:40<00:47,  3.43s/it]"
     ]
    },
    {
     "name": "stdout",
     "output_type": "stream",
     "text": [
      "Processed and saved features for 603990\n"
     ]
    },
    {
     "name": "stderr",
     "output_type": "stream",
     "text": [
      " 87%|████████▋ | 87/100 [04:42<00:41,  3.21s/it]"
     ]
    },
    {
     "name": "stdout",
     "output_type": "stream",
     "text": [
      "Processed and saved features for 605128\n"
     ]
    },
    {
     "name": "stderr",
     "output_type": "stream",
     "text": [
      " 88%|████████▊ | 88/100 [04:45<00:36,  3.08s/it]"
     ]
    },
    {
     "name": "stdout",
     "output_type": "stream",
     "text": [
      "Processed and saved features for 605166\n"
     ]
    },
    {
     "name": "stderr",
     "output_type": "stream",
     "text": [
      " 89%|████████▉ | 89/100 [04:47<00:29,  2.66s/it]"
     ]
    },
    {
     "name": "stdout",
     "output_type": "stream",
     "text": [
      "Processed and saved features for 688057\n"
     ]
    },
    {
     "name": "stderr",
     "output_type": "stream",
     "text": [
      " 90%|█████████ | 90/100 [04:49<00:25,  2.53s/it]"
     ]
    },
    {
     "name": "stdout",
     "output_type": "stream",
     "text": [
      "Processed and saved features for 688165\n"
     ]
    },
    {
     "name": "stderr",
     "output_type": "stream",
     "text": [
      " 91%|█████████ | 91/100 [04:50<00:19,  2.13s/it]"
     ]
    },
    {
     "name": "stdout",
     "output_type": "stream",
     "text": [
      "Processed and saved features for 688215\n"
     ]
    },
    {
     "name": "stderr",
     "output_type": "stream",
     "text": [
      " 92%|█████████▏| 92/100 [04:53<00:17,  2.17s/it]"
     ]
    },
    {
     "name": "stdout",
     "output_type": "stream",
     "text": [
      "Processed and saved features for 688286\n"
     ]
    },
    {
     "name": "stderr",
     "output_type": "stream",
     "text": [
      " 93%|█████████▎| 93/100 [04:54<00:12,  1.81s/it]"
     ]
    },
    {
     "name": "stdout",
     "output_type": "stream",
     "text": [
      "Processed and saved features for 688309\n"
     ]
    },
    {
     "name": "stderr",
     "output_type": "stream",
     "text": [
      " 94%|█████████▍| 94/100 [04:57<00:13,  2.17s/it]"
     ]
    },
    {
     "name": "stdout",
     "output_type": "stream",
     "text": [
      "Processed and saved features for 688313\n"
     ]
    },
    {
     "name": "stderr",
     "output_type": "stream",
     "text": [
      " 95%|█████████▌| 95/100 [05:00<00:12,  2.44s/it]"
     ]
    },
    {
     "name": "stdout",
     "output_type": "stream",
     "text": [
      "Processed and saved features for 688366\n"
     ]
    },
    {
     "name": "stderr",
     "output_type": "stream",
     "text": [
      " 96%|█████████▌| 96/100 [05:02<00:09,  2.33s/it]"
     ]
    },
    {
     "name": "stdout",
     "output_type": "stream",
     "text": [
      "Processed and saved features for 688386\n"
     ]
    },
    {
     "name": "stderr",
     "output_type": "stream",
     "text": [
      " 97%|█████████▋| 97/100 [05:04<00:07,  2.41s/it]"
     ]
    },
    {
     "name": "stdout",
     "output_type": "stream",
     "text": [
      "Processed and saved features for 688668\n"
     ]
    },
    {
     "name": "stderr",
     "output_type": "stream",
     "text": [
      " 98%|█████████▊| 98/100 [05:07<00:05,  2.52s/it]"
     ]
    },
    {
     "name": "stdout",
     "output_type": "stream",
     "text": [
      "Processed and saved features for 688678\n"
     ]
    },
    {
     "name": "stderr",
     "output_type": "stream",
     "text": [
      " 99%|█████████▉| 99/100 [05:10<00:02,  2.76s/it]"
     ]
    },
    {
     "name": "stdout",
     "output_type": "stream",
     "text": [
      "Processed and saved features for 688777\n"
     ]
    },
    {
     "name": "stderr",
     "output_type": "stream",
     "text": [
      "100%|██████████| 100/100 [05:14<00:00,  3.15s/it]"
     ]
    },
    {
     "name": "stdout",
     "output_type": "stream",
     "text": [
      "Processed and saved features for 689009\n",
      "{'mid_price', 'mean_120-180', 'mean_60-120', 'mean_0-60', 'mean_60-300', 'mean_60-6000', 'mean_60-600'}\n"
     ]
    },
    {
     "name": "stderr",
     "output_type": "stream",
     "text": [
      "\n"
     ]
    }
   ],
   "source": [
    "import pandas as pd\n",
    "import nutils\n",
    "import common as cm\n",
    "import numpy as np\n",
    "import os\n",
    "from tqdm import tqdm\n",
    "\n",
    "\n",
    "def calculate_stats(df, current, future):\n",
    "    log_returns = np.log(df[\"mid_price\"].shift(-60) / df[\"mid_price\"]) * 1e4\n",
    "    df[f\"mean_{current}-{future}\"] = (\n",
    "        (df[\"mid_price\"].rolling(future - current).mean().shift(-future))\n",
    "        / df[\"mid_price\"]\n",
    "    )\n",
    "    # df[f\"var_{current}-{future}\"] = (\n",
    "    #     log_returns.rolling(future - current).var().shift(-future)\n",
    "    # )\n",
    "    # df[f\"vol_{current}-{future}\"] = (\n",
    "    #     log_returns.rolling(future - current).std().shift(-future)\n",
    "    # )\n",
    "\n",
    "\n",
    "def calculate_stats2(df, current, future):\n",
    "    df[f\"max_{current}-{future}\"] = (\n",
    "        (df[\"mid_price\"].rolling(future - current).max().shift(-future))\n",
    "        / df[\"mid_price\"]\n",
    "        * 1e4\n",
    "    )\n",
    "    df[f\"min_{current}-{future}\"] = (\n",
    "        df[\"mid_price\"].rolling(future - current).min().shift(-future)\n",
    "    ) * 1e4\n",
    "    df[f\"gap_{current}-{future}\"] = (\n",
    "        (\n",
    "            df[\"mid_price\"].rolling(future - current).max().shift(-future)\n",
    "            - df[\"mid_price\"].rolling(future - current).min().shift(-future)\n",
    "        )\n",
    "        / df[\"mid_price\"]\n",
    "        * 1e4\n",
    "    )\n",
    "\n",
    "\n",
    "for code in tqdm(cm.SELECTED_CODES):\n",
    "    datas = cm.get_snapshot(code)\n",
    "    df = datas[\"tickData\"]\n",
    "    df = pd.DataFrame(df, columns=cm.COLS_SNAPSHOTS)\n",
    "\n",
    "    # 保存原始列名\n",
    "    original_columns = set(df.columns)\n",
    "    df[\"mid_price\"] = (df[\"AskPrice1\"] + df[\"BidPrice1\"]) / 2\n",
    "    cur_futs = [(0, 60), (60, 120), (60, 300), (60, 600), (60, 6000), (120, 180)]\n",
    "    for cur,futs in cur_futs:\n",
    "        calculate_stats(df, cur, futs)\n",
    "        # calculate_stats2(df, cur, futs)\n",
    "\n",
    "\n",
    "    # 只保留新生成的列\n",
    "    new_columns = set(df.columns) - original_columns\n",
    "    df = df.fillna(0)\n",
    "\n",
    "    # 指定保存路径\n",
    "    save_path = f\"/mnt/disk1/multiobj_dataset/{code}/\"\n",
    "    os.makedirs(save_path, exist_ok=True)\n",
    "    for col in new_columns:\n",
    "        feature_path = os.path.join(save_path, f\"{col}.npy\")\n",
    "        np.save(feature_path, df[col].values.reshape(-1, 1))\n",
    "    print(f\"Processed and saved features for {code}\")\n",
    "print(new_columns)"
   ]
  },
  {
   "cell_type": "code",
   "execution_count": 4,
   "metadata": {},
   "outputs": [],
   "source": [
    "import SharedArray as sa\n",
    "import numpy as np\n",
    "code = \"000537\"\n",
    "factor = sa.attach(f\"factor_{code}\")\n",
    "label = sa.attach(f\"label_{code}\")\n",
    "new = np.load(f\"/mnt/disk1/multiobj_dataset/{code}/mean_ret_1-60.npy\")"
   ]
  },
  {
   "cell_type": "code",
   "execution_count": 5,
   "metadata": {},
   "outputs": [
    {
     "data": {
      "text/plain": [
       "(3020081, 1)"
      ]
     },
     "execution_count": 5,
     "metadata": {},
     "output_type": "execute_result"
    }
   ],
   "source": [
    "new.shape"
   ]
  },
  {
   "cell_type": "code",
   "execution_count": 6,
   "metadata": {},
   "outputs": [
    {
     "data": {
      "text/plain": [
       "(1828412, 101)"
      ]
     },
     "execution_count": 6,
     "metadata": {},
     "output_type": "execute_result"
    }
   ],
   "source": [
    "factor.shape"
   ]
  },
  {
   "cell_type": "code",
   "execution_count": 3,
   "metadata": {},
   "outputs": [],
   "source": [
    "import SharedArray as sa\n",
    "import numpy as np\n",
    "import pandas as pd"
   ]
  },
  {
   "cell_type": "code",
   "execution_count": 4,
   "metadata": {},
   "outputs": [],
   "source": [
    "a = np.load(\"/mnt/nas/data/WY/factors/000537.npy\")\n",
    "df = pd.DataFrame(a)"
   ]
  },
  {
   "cell_type": "code",
   "execution_count": 6,
   "metadata": {},
   "outputs": [
    {
     "data": {
      "text/html": [
       "<div>\n",
       "<style scoped>\n",
       "    .dataframe tbody tr th:only-of-type {\n",
       "        vertical-align: middle;\n",
       "    }\n",
       "\n",
       "    .dataframe tbody tr th {\n",
       "        vertical-align: top;\n",
       "    }\n",
       "\n",
       "    .dataframe thead th {\n",
       "        text-align: right;\n",
       "    }\n",
       "</style>\n",
       "<table border=\"1\" class=\"dataframe\">\n",
       "  <thead>\n",
       "    <tr style=\"text-align: right;\">\n",
       "      <th></th>\n",
       "      <th>0</th>\n",
       "      <th>1</th>\n",
       "      <th>2</th>\n",
       "      <th>3</th>\n",
       "      <th>4</th>\n",
       "      <th>5</th>\n",
       "      <th>6</th>\n",
       "      <th>7</th>\n",
       "      <th>8</th>\n",
       "      <th>9</th>\n",
       "      <th>...</th>\n",
       "      <th>580</th>\n",
       "      <th>581</th>\n",
       "      <th>582</th>\n",
       "      <th>583</th>\n",
       "      <th>584</th>\n",
       "      <th>585</th>\n",
       "      <th>586</th>\n",
       "      <th>587</th>\n",
       "      <th>588</th>\n",
       "      <th>589</th>\n",
       "    </tr>\n",
       "  </thead>\n",
       "  <tbody>\n",
       "    <tr>\n",
       "      <th>count</th>\n",
       "      <td>1.828412e+06</td>\n",
       "      <td>0.0</td>\n",
       "      <td>1.828412e+06</td>\n",
       "      <td>1.828412e+06</td>\n",
       "      <td>0.0</td>\n",
       "      <td>1.828412e+06</td>\n",
       "      <td>1.828412e+06</td>\n",
       "      <td>1.828412e+06</td>\n",
       "      <td>1.828412e+06</td>\n",
       "      <td>1.828412e+06</td>\n",
       "      <td>...</td>\n",
       "      <td>1.828412e+06</td>\n",
       "      <td>1.828412e+06</td>\n",
       "      <td>1.828412e+06</td>\n",
       "      <td>1.828412e+06</td>\n",
       "      <td>1.828412e+06</td>\n",
       "      <td>1.828412e+06</td>\n",
       "      <td>1.828412e+06</td>\n",
       "      <td>1.828412e+06</td>\n",
       "      <td>1.828412e+06</td>\n",
       "      <td>1.828412e+06</td>\n",
       "    </tr>\n",
       "    <tr>\n",
       "      <th>mean</th>\n",
       "      <td>8.078326e-09</td>\n",
       "      <td>NaN</td>\n",
       "      <td>-4.018758e-07</td>\n",
       "      <td>3.861406e-08</td>\n",
       "      <td>NaN</td>\n",
       "      <td>1.392510e-06</td>\n",
       "      <td>1.668341e-06</td>\n",
       "      <td>7.261053e-08</td>\n",
       "      <td>-2.289972e-08</td>\n",
       "      <td>-3.625232e-08</td>\n",
       "      <td>...</td>\n",
       "      <td>-1.355289e-08</td>\n",
       "      <td>-7.143643e-09</td>\n",
       "      <td>2.053946e-06</td>\n",
       "      <td>2.854119e-09</td>\n",
       "      <td>-9.079771e-09</td>\n",
       "      <td>-1.900234e-06</td>\n",
       "      <td>3.177920e-08</td>\n",
       "      <td>1.462110e-08</td>\n",
       "      <td>6.662950e-08</td>\n",
       "      <td>7.557708e-06</td>\n",
       "    </tr>\n",
       "    <tr>\n",
       "      <th>std</th>\n",
       "      <td>9.995817e-01</td>\n",
       "      <td>NaN</td>\n",
       "      <td>9.990209e-01</td>\n",
       "      <td>9.996343e-01</td>\n",
       "      <td>NaN</td>\n",
       "      <td>9.992192e-01</td>\n",
       "      <td>9.993298e-01</td>\n",
       "      <td>9.981529e-01</td>\n",
       "      <td>9.994155e-01</td>\n",
       "      <td>9.995859e-01</td>\n",
       "      <td>...</td>\n",
       "      <td>9.996270e-01</td>\n",
       "      <td>9.996246e-01</td>\n",
       "      <td>9.995074e-01</td>\n",
       "      <td>9.996243e-01</td>\n",
       "      <td>9.996632e-01</td>\n",
       "      <td>9.995623e-01</td>\n",
       "      <td>9.996977e-01</td>\n",
       "      <td>9.997513e-01</td>\n",
       "      <td>9.996541e-01</td>\n",
       "      <td>9.996512e-01</td>\n",
       "    </tr>\n",
       "    <tr>\n",
       "      <th>min</th>\n",
       "      <td>-3.633564e+02</td>\n",
       "      <td>NaN</td>\n",
       "      <td>-3.073803e+01</td>\n",
       "      <td>-1.798012e+02</td>\n",
       "      <td>NaN</td>\n",
       "      <td>-2.136823e+01</td>\n",
       "      <td>-2.386577e+01</td>\n",
       "      <td>-4.081592e+01</td>\n",
       "      <td>-2.815655e+01</td>\n",
       "      <td>-1.560041e+01</td>\n",
       "      <td>...</td>\n",
       "      <td>-6.248907e+00</td>\n",
       "      <td>-6.203230e+00</td>\n",
       "      <td>-2.202460e+01</td>\n",
       "      <td>-6.196578e+00</td>\n",
       "      <td>-6.210800e+00</td>\n",
       "      <td>-4.492092e+00</td>\n",
       "      <td>-6.124707e+00</td>\n",
       "      <td>-6.274611e+00</td>\n",
       "      <td>-6.087548e+00</td>\n",
       "      <td>-4.420078e+00</td>\n",
       "    </tr>\n",
       "    <tr>\n",
       "      <th>25%</th>\n",
       "      <td>-1.179513e-02</td>\n",
       "      <td>NaN</td>\n",
       "      <td>-4.126149e-01</td>\n",
       "      <td>3.015391e-02</td>\n",
       "      <td>NaN</td>\n",
       "      <td>-3.593167e-01</td>\n",
       "      <td>-5.213097e-01</td>\n",
       "      <td>-1.726747e-01</td>\n",
       "      <td>-5.784067e-01</td>\n",
       "      <td>-7.402822e-01</td>\n",
       "      <td>...</td>\n",
       "      <td>-8.040494e-01</td>\n",
       "      <td>-7.990317e-01</td>\n",
       "      <td>-7.200049e-01</td>\n",
       "      <td>-7.696555e-01</td>\n",
       "      <td>-7.992922e-01</td>\n",
       "      <td>-7.611341e-01</td>\n",
       "      <td>-8.004218e-01</td>\n",
       "      <td>-7.699338e-01</td>\n",
       "      <td>-7.996075e-01</td>\n",
       "      <td>-7.503179e-01</td>\n",
       "    </tr>\n",
       "    <tr>\n",
       "      <th>50%</th>\n",
       "      <td>1.277012e-03</td>\n",
       "      <td>NaN</td>\n",
       "      <td>-3.846670e-02</td>\n",
       "      <td>3.248612e-02</td>\n",
       "      <td>NaN</td>\n",
       "      <td>1.403104e-01</td>\n",
       "      <td>8.775415e-02</td>\n",
       "      <td>1.722196e-02</td>\n",
       "      <td>3.622863e-03</td>\n",
       "      <td>-4.571700e-03</td>\n",
       "      <td>...</td>\n",
       "      <td>-1.355238e-02</td>\n",
       "      <td>-1.525443e-02</td>\n",
       "      <td>-3.691749e-02</td>\n",
       "      <td>1.595721e-03</td>\n",
       "      <td>-6.812765e-03</td>\n",
       "      <td>-2.963227e-02</td>\n",
       "      <td>-7.135521e-03</td>\n",
       "      <td>1.899262e-03</td>\n",
       "      <td>-1.059111e-02</td>\n",
       "      <td>-3.368694e-02</td>\n",
       "    </tr>\n",
       "    <tr>\n",
       "      <th>75%</th>\n",
       "      <td>1.397133e-02</td>\n",
       "      <td>NaN</td>\n",
       "      <td>3.456947e-01</td>\n",
       "      <td>3.248612e-02</td>\n",
       "      <td>NaN</td>\n",
       "      <td>6.354200e-01</td>\n",
       "      <td>6.928920e-01</td>\n",
       "      <td>1.707401e-01</td>\n",
       "      <td>5.932035e-01</td>\n",
       "      <td>7.430637e-01</td>\n",
       "      <td>...</td>\n",
       "      <td>7.976262e-01</td>\n",
       "      <td>7.927510e-01</td>\n",
       "      <td>6.554657e-01</td>\n",
       "      <td>7.384548e-01</td>\n",
       "      <td>7.902108e-01</td>\n",
       "      <td>7.181430e-01</td>\n",
       "      <td>7.899731e-01</td>\n",
       "      <td>7.416373e-01</td>\n",
       "      <td>7.877862e-01</td>\n",
       "      <td>7.122362e-01</td>\n",
       "    </tr>\n",
       "    <tr>\n",
       "      <th>max</th>\n",
       "      <td>5.499131e+02</td>\n",
       "      <td>NaN</td>\n",
       "      <td>5.472511e+01</td>\n",
       "      <td>2.600550e+02</td>\n",
       "      <td>NaN</td>\n",
       "      <td>6.551997e+00</td>\n",
       "      <td>1.421982e+01</td>\n",
       "      <td>4.233598e+01</td>\n",
       "      <td>3.028057e+01</td>\n",
       "      <td>1.575854e+01</td>\n",
       "      <td>...</td>\n",
       "      <td>6.247550e+00</td>\n",
       "      <td>6.024495e+00</td>\n",
       "      <td>4.531549e+01</td>\n",
       "      <td>8.586280e+00</td>\n",
       "      <td>6.536832e+00</td>\n",
       "      <td>5.383172e+01</td>\n",
       "      <td>1.071835e+01</td>\n",
       "      <td>8.722362e+00</td>\n",
       "      <td>9.166877e+00</td>\n",
       "      <td>6.667657e+01</td>\n",
       "    </tr>\n",
       "  </tbody>\n",
       "</table>\n",
       "<p>8 rows × 590 columns</p>\n",
       "</div>"
      ],
      "text/plain": [
       "                0    1             2             3    4             5    \\\n",
       "count  1.828412e+06  0.0  1.828412e+06  1.828412e+06  0.0  1.828412e+06   \n",
       "mean   8.078326e-09  NaN -4.018758e-07  3.861406e-08  NaN  1.392510e-06   \n",
       "std    9.995817e-01  NaN  9.990209e-01  9.996343e-01  NaN  9.992192e-01   \n",
       "min   -3.633564e+02  NaN -3.073803e+01 -1.798012e+02  NaN -2.136823e+01   \n",
       "25%   -1.179513e-02  NaN -4.126149e-01  3.015391e-02  NaN -3.593167e-01   \n",
       "50%    1.277012e-03  NaN -3.846670e-02  3.248612e-02  NaN  1.403104e-01   \n",
       "75%    1.397133e-02  NaN  3.456947e-01  3.248612e-02  NaN  6.354200e-01   \n",
       "max    5.499131e+02  NaN  5.472511e+01  2.600550e+02  NaN  6.551997e+00   \n",
       "\n",
       "                6             7             8             9    ...  \\\n",
       "count  1.828412e+06  1.828412e+06  1.828412e+06  1.828412e+06  ...   \n",
       "mean   1.668341e-06  7.261053e-08 -2.289972e-08 -3.625232e-08  ...   \n",
       "std    9.993298e-01  9.981529e-01  9.994155e-01  9.995859e-01  ...   \n",
       "min   -2.386577e+01 -4.081592e+01 -2.815655e+01 -1.560041e+01  ...   \n",
       "25%   -5.213097e-01 -1.726747e-01 -5.784067e-01 -7.402822e-01  ...   \n",
       "50%    8.775415e-02  1.722196e-02  3.622863e-03 -4.571700e-03  ...   \n",
       "75%    6.928920e-01  1.707401e-01  5.932035e-01  7.430637e-01  ...   \n",
       "max    1.421982e+01  4.233598e+01  3.028057e+01  1.575854e+01  ...   \n",
       "\n",
       "                580           581           582           583           584  \\\n",
       "count  1.828412e+06  1.828412e+06  1.828412e+06  1.828412e+06  1.828412e+06   \n",
       "mean  -1.355289e-08 -7.143643e-09  2.053946e-06  2.854119e-09 -9.079771e-09   \n",
       "std    9.996270e-01  9.996246e-01  9.995074e-01  9.996243e-01  9.996632e-01   \n",
       "min   -6.248907e+00 -6.203230e+00 -2.202460e+01 -6.196578e+00 -6.210800e+00   \n",
       "25%   -8.040494e-01 -7.990317e-01 -7.200049e-01 -7.696555e-01 -7.992922e-01   \n",
       "50%   -1.355238e-02 -1.525443e-02 -3.691749e-02  1.595721e-03 -6.812765e-03   \n",
       "75%    7.976262e-01  7.927510e-01  6.554657e-01  7.384548e-01  7.902108e-01   \n",
       "max    6.247550e+00  6.024495e+00  4.531549e+01  8.586280e+00  6.536832e+00   \n",
       "\n",
       "                585           586           587           588           589  \n",
       "count  1.828412e+06  1.828412e+06  1.828412e+06  1.828412e+06  1.828412e+06  \n",
       "mean  -1.900234e-06  3.177920e-08  1.462110e-08  6.662950e-08  7.557708e-06  \n",
       "std    9.995623e-01  9.996977e-01  9.997513e-01  9.996541e-01  9.996512e-01  \n",
       "min   -4.492092e+00 -6.124707e+00 -6.274611e+00 -6.087548e+00 -4.420078e+00  \n",
       "25%   -7.611341e-01 -8.004218e-01 -7.699338e-01 -7.996075e-01 -7.503179e-01  \n",
       "50%   -2.963227e-02 -7.135521e-03  1.899262e-03 -1.059111e-02 -3.368694e-02  \n",
       "75%    7.181430e-01  7.899731e-01  7.416373e-01  7.877862e-01  7.122362e-01  \n",
       "max    5.383172e+01  1.071835e+01  8.722362e+00  9.166877e+00  6.667657e+01  \n",
       "\n",
       "[8 rows x 590 columns]"
      ]
     },
     "execution_count": 6,
     "metadata": {},
     "output_type": "execute_result"
    }
   ],
   "source": [
    "df.describe()"
   ]
  },
  {
   "cell_type": "code",
   "execution_count": null,
   "metadata": {},
   "outputs": [],
   "source": []
  }
 ],
 "metadata": {
  "kernelspec": {
   "display_name": "base",
   "language": "python",
   "name": "python3"
  },
  "language_info": {
   "codemirror_mode": {
    "name": "ipython",
    "version": 3
   },
   "file_extension": ".py",
   "mimetype": "text/x-python",
   "name": "python",
   "nbconvert_exporter": "python",
   "pygments_lexer": "ipython3",
   "version": "3.12.2"
  }
 },
 "nbformat": 4,
 "nbformat_minor": 2
}
