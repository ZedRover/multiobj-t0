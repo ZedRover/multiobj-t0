{
 "cells": [
  {
   "cell_type": "markdown",
   "metadata": {},
   "source": [
    "## Genearete labels"
   ]
  },
  {
   "cell_type": "code",
   "execution_count": 1,
   "metadata": {},
   "outputs": [
    {
     "name": "stderr",
     "output_type": "stream",
     "text": [
      "100%|██████████| 100/100 [21:40<00:00, 13.00s/it]"
     ]
    },
    {
     "name": "stdout",
     "output_type": "stream",
     "text": [
      "{'gap_60-300', 'min_60-600', 'gap_60-120', 'min_120-180', 'min_60-6000', 'max_120-180', 'min_60-120', 'min_0-60', 'mid_price', 'gap_60-6000', 'max_60-6000', 'gap_120-180', 'gap_60-600', 'max_0-60', 'max_60-120', 'gap_0-60', 'max_60-300', 'min_60-300', 'max_60-600'}\n"
     ]
    },
    {
     "name": "stderr",
     "output_type": "stream",
     "text": [
      "\n"
     ]
    }
   ],
   "source": [
    "import pandas as pd\n",
    "import nutils\n",
    "import common as cm\n",
    "import numpy as np\n",
    "import os\n",
    "from tqdm import tqdm\n",
    "\n",
    "\n",
    "def calculate_stats(df, current, future):\n",
    "    log_returns = np.log(df[\"mid_price\"].shift(-60) / df[\"mid_price\"]) * 1e4\n",
    "    df[f\"mean_{current}-{future}\"] = (\n",
    "        np.log(\n",
    "            (df[\"mid_price\"].rolling(future - current).mean().shift(-future))\n",
    "            / df[\"mid_price\"]\n",
    "        )\n",
    "        * 1e4\n",
    "    )\n",
    "    # df[f\"var_{current}-{future}\"] = (\n",
    "    #     log_returns.rolling(future - current).var().shift(-future)\n",
    "    # )\n",
    "    # df[f\"vol_{current}-{future}\"] = (\n",
    "    #     log_returns.rolling(future - current).std().shift(-future)\n",
    "    # )\n",
    "\n",
    "\n",
    "def calculate_stats2(df, current, future):\n",
    "    df[f\"max_{current}-{future}\"] = (\n",
    "        np.log(\n",
    "            (df[\"mid_price\"].rolling(future - current).max().shift(-future))\n",
    "            / df[\"mid_price\"]\n",
    "        )\n",
    "        * 1e4\n",
    "    )\n",
    "    df[f\"min_{current}-{future}\"] = (\n",
    "        np.log(\n",
    "            df[\"mid_price\"].rolling(future - current).min().shift(-future)\n",
    "            / df[\"mid_price\"]\n",
    "        )\n",
    "        * 1e4\n",
    "    )\n",
    "    df[f\"gap_{current}-{future}\"] = (\n",
    "        (\n",
    "            df[\"mid_price\"].rolling(future - current).max().shift(-future)\n",
    "            - df[\"mid_price\"].rolling(future - current).min().shift(-future)\n",
    "        )\n",
    "        / df[\"mid_price\"]\n",
    "        * 1e4\n",
    "    )\n",
    "\n",
    "\n",
    "for code in tqdm(cm.SELECTED_CODES):\n",
    "    datas = cm.get_snapshot(code)\n",
    "    df = datas[\"tickData\"]\n",
    "    df = pd.DataFrame(df, columns=cm.COLS_SNAPSHOTS)\n",
    "\n",
    "    # 保存原始列名\n",
    "    original_columns = set(df.columns)\n",
    "    df[\"mid_price\"] = (df[\"AskPrice1\"] + df[\"BidPrice1\"]) / 2\n",
    "    cur_futs = [(0, 60), (60, 120), (60, 300), (60, 600), (60, 6000), (120, 180)]\n",
    "    for cur, futs in cur_futs:\n",
    "        # calculate_stats(df, cur, futs)\n",
    "        calculate_stats2(df, cur, futs)\n",
    "\n",
    "    # 只保留新生成的列\n",
    "    new_columns = set(df.columns) - original_columns\n",
    "    df = df.fillna(0)\n",
    "\n",
    "    # 指定保存路径\n",
    "    save_path = f\"/mnt/disk1/multiobj_dataset/{code}/\"\n",
    "    os.makedirs(save_path, exist_ok=True)\n",
    "    for col in new_columns:\n",
    "        feature_path = os.path.join(save_path, f\"{col}.npy\")\n",
    "        np.save(feature_path, df[col].values.reshape(-1, 1))\n",
    "print(new_columns)"
   ]
  },
  {
   "cell_type": "code",
   "execution_count": null,
   "metadata": {},
   "outputs": [],
   "source": []
  }
 ],
 "metadata": {
  "kernelspec": {
   "display_name": "base",
   "language": "python",
   "name": "python3"
  },
  "language_info": {
   "codemirror_mode": {
    "name": "ipython",
    "version": 3
   },
   "file_extension": ".py",
   "mimetype": "text/x-python",
   "name": "python",
   "nbconvert_exporter": "python",
   "pygments_lexer": "ipython3",
   "version": "3.12.2"
  }
 },
 "nbformat": 4,
 "nbformat_minor": 2
}
