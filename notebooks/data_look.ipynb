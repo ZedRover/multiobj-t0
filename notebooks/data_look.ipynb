{
 "cells": [
  {
   "cell_type": "code",
   "execution_count": 1,
   "metadata": {},
   "outputs": [],
   "source": [
    "import nutils\n",
    "import pandas as pd\n",
    "import numpy as np\n",
    "from common import *"
   ]
  },
  {
   "cell_type": "code",
   "execution_count": 2,
   "metadata": {},
   "outputs": [],
   "source": [
    "# import os\n",
    "# for code in SELECTED_CODES:\n",
    "#     if os.path.exists(f\"A:\\snapshot\\stkCode_{code}.parquet\"):\n",
    "#         continue\n",
    "#     datas = get_snapshot(code)\n",
    "#     df = pd.DataFrame(datas['tickData'],columns=COLS_SNAPSHOTS)\n",
    "#     df['date'] = datas['timestamp'][:,0]\n",
    "#     df['time'] = datas['timestamp'][:,1]\n",
    "#     df.set_index('date',inplace=True)\n",
    "#     df.set_index('time',inplace=True,append=True)\n",
    "#     df.to_parquet(f\"A:\\snapshot\\stkCode_{code}.parquet\",)"
   ]
  },
  {
   "cell_type": "code",
   "execution_count": 3,
   "metadata": {},
   "outputs": [],
   "source": [
    "code = \"000537\"\n",
    "datas = get_snapshot(code)"
   ]
  },
  {
   "cell_type": "code",
   "execution_count": 4,
   "metadata": {},
   "outputs": [
    {
     "data": {
      "text/plain": [
       "{'tickData': array([[6.270e+00, 6.260e+00, 6.260e+00, ..., 5.600e+03, 3.000e+03,\n",
       "         1.000e+04],\n",
       "        [6.270e+00, 6.260e+00, 6.260e+00, ..., 1.200e+04, 8.500e+03,\n",
       "         1.380e+04],\n",
       "        [6.270e+00, 6.260e+00, 6.260e+00, ..., 1.200e+04, 8.500e+03,\n",
       "         1.380e+04],\n",
       "        ...,\n",
       "        [1.327e+01, 1.333e+01, 1.364e+01, ..., 1.000e+03, 5.500e+03,\n",
       "         9.000e+03],\n",
       "        [1.327e+01, 1.333e+01, 1.364e+01, ..., 1.000e+03, 5.500e+03,\n",
       "         9.000e+03],\n",
       "        [1.327e+01, 1.333e+01, 1.364e+01, ..., 5.500e+03, 9.000e+03,\n",
       "         1.300e+03]]),\n",
       " 'timestamp': array([[20210104,    93000],\n",
       "        [20210104,    93003],\n",
       "        [20210104,    93006],\n",
       "        ...,\n",
       "        [20221230,   145651],\n",
       "        [20221230,   145654],\n",
       "        [20221230,   145657]])}"
      ]
     },
     "execution_count": 4,
     "metadata": {},
     "output_type": "execute_result"
    }
   ],
   "source": [
    "datas"
   ]
  },
  {
   "cell_type": "code",
   "execution_count": null,
   "metadata": {},
   "outputs": [],
   "source": [
    "import os\n",
    "\n",
    "\n",
    "def gen_sa(code):\n",
    "    datas = get_snapshot(code)\n",
    "    df = pd.DataFrame(datas[\"tickData\"], columns=COLS_SNAPSHOTS)\n",
    "    # df['date'] = datas['timestamp'][:,0]\n",
    "    # df['time'] = datas['timestamp'][:,1]\n",
    "    # shape_dict[code] = df.shape\n",
    "\n",
    "    snapshot = np.memmap(\n",
    "        f\"A:/sa/snapshot/{code}.dat\", dtype=np.float32, mode=\"w+\", shape=df.shape\n",
    "    )\n",
    "    snapshot[:] = df.values\n",
    "    snapshot.flush()\n",
    "    snapshot.flags[\"WRITEABLE\"] = False\n",
    "\n",
    "    tmstamp = np.memmap(\n",
    "        f\"A:/sa/timestamp/{code}.dat\",\n",
    "        dtype=np.int64,\n",
    "        mode=\"w+\",\n",
    "        shape=datas[\"timestamp\"].shape,\n",
    "    )\n",
    "    tmstamp[:] = datas[\"timestamp\"]\n",
    "    tmstamp.flush()\n",
    "    tmstamp.flags[\"WRITEABLE\"] = False\n",
    "\n",
    "    assert len(snapshot) == len(tmstamp), f\"{len(snapshot)}!= {len(tmstamp)}\"\n",
    "\n",
    "\n",
    "os.makedirs(\"A:/sa/snapshot\", exist_ok=True)\n",
    "os.makedirs(\"A:/sa/timestamp\", exist_ok=True)\n",
    "for code in SELECTED_CODES:\n",
    "    if os.path.exists(f\"A:\\snapshot\\{code}.dat\"):\n",
    "        continue\n",
    "    else:\n",
    "        gen_sa(code)"
   ]
  },
  {
   "cell_type": "code",
   "execution_count": null,
   "metadata": {},
   "outputs": [],
   "source": [
    "print(tmstamp.shape)"
   ]
  },
  {
   "cell_type": "code",
   "execution_count": null,
   "metadata": {},
   "outputs": [],
   "source": [
    "def gen_sa_ret(code):\n",
    "    datas = get_snapshot(code)\n",
    "    df = pd.DataFrame(datas[\"tickData\"], columns=COLS_SNAPSHOTS)\n",
    "    df[\"mid_price\"] = (df[\"BidPrice1\"] + df[\"AskPrice1\"]) / 2\n",
    "    df[\"ret\"] = np.log(df.mid_price.shift(-60) / df.mid_price) * 1e4\n",
    "\n",
    "    fp = np.memmap(\n",
    "        f\"A:/sa/ret/{code}.dat\",\n",
    "        dtype=np.float32,\n",
    "        mode=\"w+\",\n",
    "        shape=df[\"ret\"].shape,\n",
    "    )\n",
    "    fp[:] = df[\"ret\"]\n",
    "    fp.flush()\n",
    "    fp.flags[\"WRITEABLE\"] = False\n",
    "    \n",
    "for code in tqdm(SELECTED_CODES):\n",
    "    gen_sa_ret(code)"
   ]
  },
  {
   "cell_type": "code",
   "execution_count": null,
   "metadata": {},
   "outputs": [],
   "source": []
  },
  {
   "cell_type": "code",
   "execution_count": null,
   "metadata": {},
   "outputs": [],
   "source": [
    "df = np.memmap(\n",
    "    'A:/sa/snapshot/000537,npy',\n",
    "    dtype='float32',\n",
    "    mode='r',\n",
    ")"
   ]
  },
  {
   "cell_type": "code",
   "execution_count": null,
   "metadata": {},
   "outputs": [],
   "source": [
    "df = df.reshape(-1,len(COLS_SNAPSHOTS))"
   ]
  },
  {
   "cell_type": "code",
   "execution_count": null,
   "metadata": {},
   "outputs": [],
   "source": [
    "datas = get_snapshot(\"000537\")\n",
    "df = pd.DataFrame(datas['tickData'],columns=COLS_SNAPSHOTS)"
   ]
  },
  {
   "cell_type": "code",
   "execution_count": null,
   "metadata": {},
   "outputs": [],
   "source": [
    "df.shape"
   ]
  },
  {
   "cell_type": "code",
   "execution_count": null,
   "metadata": {},
   "outputs": [],
   "source": []
  }
 ],
 "metadata": {
  "kernelspec": {
   "display_name": "base",
   "language": "python",
   "name": "python3"
  },
  "language_info": {
   "codemirror_mode": {
    "name": "ipython",
    "version": 3
   },
   "file_extension": ".py",
   "mimetype": "text/x-python",
   "name": "python",
   "nbconvert_exporter": "python",
   "pygments_lexer": "ipython3",
   "version": "3.12.2"
  }
 },
 "nbformat": 4,
 "nbformat_minor": 2
}
