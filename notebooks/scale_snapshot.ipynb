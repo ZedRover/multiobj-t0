{
 "cells": [
  {
   "cell_type": "code",
   "execution_count": 1,
   "metadata": {},
   "outputs": [],
   "source": [
    "import numpy as np\n",
    "import numba as nb\n",
    "import torch as th\n",
    "import SharedArray as sa\n",
    "import os\n",
    "import nutils\n",
    "import common as cm\n",
    "import cupy as cp\n",
    "from tqdm import tqdm\n",
    "import os"
   ]
  },
  {
   "cell_type": "code",
   "execution_count": 2,
   "metadata": {},
   "outputs": [],
   "source": [
    "codes = cm.SELECTED_CODES\n",
    "\n",
    "\n",
    "def get_snapshot(code):\n",
    "    return (\n",
    "        sa.attach(f\"snapshot_{code}\"),\n",
    "        sa.attach(f\"label_{code}\"),\n",
    "        sa.attach(f\"timestamp_{code}\"),\n",
    "    )"
   ]
  },
  {
   "cell_type": "code",
   "execution_count": 3,
   "metadata": {},
   "outputs": [],
   "source": [
    "COLS_DIFF = [\n",
    "    \"TotalBidVolume\",\n",
    "    \"TotalAskVolume\",\n",
    "    \"BidPrice1\",\n",
    "    \"BidPrice2\",\n",
    "    \"BidPrice3\",\n",
    "    \"BidPrice4\",\n",
    "    \"BidPrice5\",\n",
    "    \"BidPrice6\",\n",
    "    \"BidPrice7\",\n",
    "    \"BidPrice8\",\n",
    "    \"BidPrice9\",\n",
    "    \"BidPrice10\",\n",
    "    \"AskPrice1\",\n",
    "    \"AskPrice2\",\n",
    "    \"AskPrice3\",\n",
    "    \"AskPrice4\",\n",
    "    \"AskPrice5\",\n",
    "    \"AskPrice6\",\n",
    "    \"AskPrice7\",\n",
    "    \"AskPrice8\",\n",
    "    \"AskPrice9\",\n",
    "    \"AskPrice10\",\n",
    "    \"BidVolume1\",\n",
    "    \"BidVolume2\",\n",
    "    \"BidVolume3\",\n",
    "    \"BidVolume4\",\n",
    "    \"BidVolume5\",\n",
    "    \"BidVolume6\",\n",
    "    \"BidVolume7\",\n",
    "    \"BidVolume8\",\n",
    "    \"BidVolume9\",\n",
    "    \"BidVolume10\",\n",
    "    \"AskVolume1\",\n",
    "    \"AskVolume2\",\n",
    "    \"AskVolume3\",\n",
    "    \"AskVolume4\",\n",
    "    \"AskVolume5\",\n",
    "    \"AskVolume6\",\n",
    "    \"AskVolume7\",\n",
    "    \"AskVolume8\",\n",
    "    \"AskVolume9\",\n",
    "    \"AskVolume10\",\n",
    "]\n",
    "COLS_SNAPSHOTS_INDEX = {col: i for i, col in enumerate(cm.COLS_SNAPSHOTS)}\n",
    "COLS_DIFF_INDEX = [COLS_SNAPSHOTS_INDEX[col] for col in COLS_DIFF]\n",
    "\n"
   ]
  },
  {
   "cell_type": "markdown",
   "metadata": {
    "notebookRunGroups": {
     "groupValue": "2"
    }
   },
   "source": [
    "\n",
    "def standardize_by_day_on_gpu(x, ts, device_id=0):\n",
    "    with cp.cuda.Device(device_id):\n",
    "        # 将 numpy 数组转换为 cupy 数组\n",
    "        x_cp = cp.array(x)\n",
    "        ts_cp = cp.array(ts)\n",
    "\n",
    "        # 对指定列进行差分操作\n",
    "        for col_idx in COLS_DIFF_INDEX:\n",
    "            x_cp[1:, col_idx] = cp.diff(x_cp[:, col_idx], axis=0)\n",
    "        # 将差分后的第一行置为0\n",
    "        x_cp[0, COLS_DIFF_INDEX] = 0\n",
    "\n",
    "        # 获取所有唯一的天数\n",
    "        unique_days = cp.unique(ts_cp)\n",
    "\n",
    "        # 初始化标准化后的数组\n",
    "        x_standardized = cp.zeros_like(x_cp)\n",
    "\n",
    "        # 按天标准化\n",
    "        for day in unique_days:\n",
    "            mask = ts_cp == day\n",
    "            x_day = x_cp[mask]\n",
    "\n",
    "            # 计算每一列的均值和标准差\n",
    "            mean = cp.mean(x_day, axis=0)\n",
    "            std = cp.std(x_day, axis=0)\n",
    "\n",
    "            # 标准化\n",
    "            x_standardized[mask] = (x_day - mean) / std\n",
    "\n",
    "        # 将标准化后的数据从 GPU 转回 CPU 并转换为 numpy 数组\n",
    "        return cp.asnumpy(x_standardized)"
   ]
  },
  {
   "cell_type": "markdown",
   "metadata": {
    "notebookRunGroups": {
     "groupValue": "2"
    }
   },
   "source": [
    "result = {}\n",
    "for code in tqdm(codes):\n",
    "    x, y, ts = get_snapshot(code)\n",
    "    x = np.nan_to_num(x,0, 0, 0)\n",
    "    x_standardized = standardize_by_day_on_gpu(x, ts)\n",
    "    # 将标准化后的数据从 GPU 转回 CPU 并转换为 numpy 数组\n",
    "    x_standardized_cpu = cp.asnumpy(x_standardized)\n",
    "    # 你现在可以使用 x_standardized_cpu 进行后续处理\n",
    "    result[code] = x_standardized_cpu\n",
    "\n",
    "save_path = \"/mnt/disk1/snapshot_diff_norm/\"\n",
    "os.makedirs(save_path,exist_ok=True)\n",
    "for code,df in result.items():\n",
    "    np.save(os.path.join(save_path,f\"{code}.npy\"),df)"
   ]
  },
  {
   "cell_type": "code",
   "execution_count": 4,
   "metadata": {},
   "outputs": [],
   "source": [
    "import cupy as cp\n",
    "\n",
    "\n",
    "def standardize_by_n_days_on_gpu(x, ts, diff=1, n=20, device_id=0):\n",
    "    with cp.cuda.Device(device_id):\n",
    "        # 将 numpy 数组转换为 cupy 数组\n",
    "        x_cp = cp.array(x)\n",
    "        ts_cp = cp.array(ts)\n",
    "\n",
    "        # 对指定列进行差分操作\n",
    "        for col_idx in COLS_DIFF_INDEX:\n",
    "            x_cp[diff:, col_idx] = cp.diff(x_cp[:, col_idx], axis=0, n=diff)\n",
    "        # 将差分后的第一行置为0\n",
    "        x_cp[: diff, COLS_DIFF_INDEX] = 0\n",
    "\n",
    "        # 获取所有唯一的天数并排序\n",
    "        unique_days = cp.unique(ts_cp)\n",
    "        unique_days.sort()\n",
    "\n",
    "        # 初始化标准化后的数组\n",
    "        x_standardized = cp.zeros_like(x_cp)\n",
    "\n",
    "        # 按天标准化，使用过去n天的数据\n",
    "        for idx, day in enumerate(unique_days):\n",
    "            # 计算使用的天数的开始索引\n",
    "            start_idx = max(0, idx - n + 1)\n",
    "            past_days = unique_days[start_idx : idx + 1]\n",
    "\n",
    "            # 找到这些天数对应的所有数据\n",
    "            mask = cp.isin(ts_cp, past_days)\n",
    "            x_days = x_cp[mask]\n",
    "\n",
    "            # 计算这些天数数据的均值和标准差\n",
    "            mean = cp.mean(x_days, axis=0)\n",
    "            std = cp.std(x_days, axis=0)\n",
    "            std += cp.where(std == 0, 1, 0)  # 防止除以0\n",
    "\n",
    "            # 当天的数据\n",
    "            mask_today = ts_cp == day\n",
    "            x_today = x_cp[mask_today]\n",
    "\n",
    "            # 标准化\n",
    "            x_standardized[mask_today] = (x_today - mean) / std\n",
    "\n",
    "        # 查找和替换 NaN 和 Inf 为 0\n",
    "        nan_mask = cp.isnan(x_standardized)\n",
    "        inf_mask = cp.isinf(x_standardized)\n",
    "        x_standardized[nan_mask | inf_mask] = 0\n",
    "\n",
    "        # 将标准化后的数据从 GPU 转回 CPU 并转换为 numpy 数组\n",
    "        return cp.asnumpy(x_standardized)"
   ]
  },
  {
   "cell_type": "code",
   "execution_count": 6,
   "metadata": {},
   "outputs": [
    {
     "name": "stderr",
     "output_type": "stream",
     "text": [
      "100%|██████████| 100/100 [10:53<00:00,  6.53s/it]\n",
      "100%|██████████| 100/100 [10:18<00:00,  6.19s/it]\n",
      "100%|██████████| 100/100 [10:22<00:00,  6.23s/it]\n",
      "100%|██████████| 100/100 [10:43<00:00,  6.44s/it]\n",
      "100%|██████████| 100/100 [10:45<00:00,  6.46s/it]\n"
     ]
    }
   ],
   "source": [
    "result = {}\n",
    "n = 20\n",
    "diff = 1\n",
    "for diff in [6,7,8,9,10]:\n",
    "    for code in tqdm(codes):\n",
    "        x, y, ts = get_snapshot(code)\n",
    "        x = np.where(np.isnan(x) | np.isinf(x), 0, x)\n",
    "        x_standardized = standardize_by_n_days_on_gpu(x, ts, diff=diff, n=20)\n",
    "        # 将标准化后的数据从 GPU 转回 CPU 并转换为 numpy 数组\n",
    "        x_standardized_cpu = cp.asnumpy(x_standardized)\n",
    "        # 你现在可以使用 x_standardized_cpu 进行后续处理\n",
    "        result[code] = x_standardized_cpu\n",
    "    save_path = f\"/mnt/disk2/snapshot_diff{diff}_norm{n}/\"\n",
    "    os.makedirs(save_path, exist_ok=True)\n",
    "    for code, df in result.items():\n",
    "        np.save(os.path.join(save_path, f\"{code}.npy\"), df)"
   ]
  },
  {
   "cell_type": "code",
   "execution_count": null,
   "metadata": {},
   "outputs": [],
   "source": []
  }
 ],
 "metadata": {
  "kernelspec": {
   "display_name": "base",
   "language": "python",
   "name": "python3"
  },
  "language_info": {
   "codemirror_mode": {
    "name": "ipython",
    "version": 3
   },
   "file_extension": ".py",
   "mimetype": "text/x-python",
   "name": "python",
   "nbconvert_exporter": "python",
   "pygments_lexer": "ipython3",
   "version": "3.12.2"
  }
 },
 "nbformat": 4,
 "nbformat_minor": 2
}
